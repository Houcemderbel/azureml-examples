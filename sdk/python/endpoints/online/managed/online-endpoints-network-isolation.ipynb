{
 "cells": [
  {
   "cell_type": "markdown",
   "metadata": {},
   "source": [
    "# Use network isolation with managed online endpoints"
   ]
  },
  {
   "cell_type": "markdown",
   "metadata": {},
   "source": [
    "The following prerequisites are needed for this example: \n",
    "\n",
    "Install them using the following code:"
   ]
  },
  {
   "cell_type": "code",
   "execution_count": null,
   "metadata": {},
   "outputs": [],
   "source": [
    "%pip install azure-mgmt-resource\n",
    "%pip install azure-mgmt-compute\n",
    "%pip install azure-mgmt-containerregistry"
   ]
  },
  {
   "cell_type": "markdown",
   "metadata": {},
   "source": [
    "## Connect to Azure Machine Learning"
   ]
  },
  {
   "cell_type": "markdown",
   "metadata": {},
   "source": [
    "### Import Required Libraries"
   ]
  },
  {
   "cell_type": "code",
   "execution_count": 1,
   "metadata": {},
   "outputs": [],
   "source": [
    "from azure.ai.ml import MLClient\n",
    "from azure.ai.ml.entities import (\n",
    "    ManagedOnlineEndpoint,\n",
    "    ManagedOnlineDeployment,\n",
    "    Model,\n",
    "    Environment,\n",
    "    CodeConfiguration,\n",
    ")\n",
    "from azure.mgmt.resource import ResourceManagementClient, DeploymentScriptsClient\n",
    "from azure.mgmt.resource.templatespecs import TemplateSpecsClient\n",
    "from azure.mgmt.resource.templatespecs.models import TemplateSpec\n",
    "from azure.mgmt.resource.resources.v2021_04_01 import models as resource_models\n",
    "from azure.mgmt.resource.templatespecs.v2022_02_01.models import TemplateSpec\n",
    "from azure.mgmt.network import NetworkManagementClient\n",
    "from azure.mgmt.compute import ComputeManagementClient\n",
    "from azure.mgmt.compute.models import VirtualMachineRunCommand, VirtualMachine, VirtualMachineRunCommandScriptSource,RunCommandInputParameter\n",
    "from azure.identity import DefaultAzureCredential, ManagedIdentityCredential\n",
    "import os, json, random\n",
    "from pathlib import Path"
   ]
  },
  {
   "cell_type": "markdown",
   "metadata": {},
   "source": [
    "### Set variables"
   ]
  },
  {
   "cell_type": "code",
   "execution_count": 2,
   "metadata": {},
   "outputs": [],
   "source": [
    "subscription = \"<SUBSCRIPTION_ID>\"\n",
    "resource_group = \"<RESOURCE_GROUP>\"\n",
    "workspace = \"<AML_WORKSPACE_NAME>\"\n",
    "location = \"<LOCATION>\"\n",
    "\n",
    "image_name=\"img\"\n",
    "\n",
    "_rand = random.randint(0,10000)\n",
    "suffix = f\"vnet{_rand}\"\n",
    "acr_name=f\"cr{suffix}\"\n",
    "workspace=f\"mlw-{suffix}\"\n",
    "identity_name=f\"uai{suffix}\"\n",
    "\n",
    "vm_name=\"moevnet-vm\"\n",
    "vnet_name=f\"vnet-{suffix}\"\n",
    "subnet_name=\"snet-scoring\"\n",
    "\n",
    "endpoint_name=f\"endpt-vnet-{_rand}\""
   ]
  },
  {
   "cell_type": "markdown",
   "metadata": {},
   "source": [
    "## Get clients"
   ]
  },
  {
   "cell_type": "code",
   "execution_count": 5,
   "metadata": {},
   "outputs": [],
   "source": [
    "credential = DefaultAzureCredential()\n",
    "\n",
    "ml_client = MLClient(credential, subscription, resource_group, workspace)\n",
    "\n",
    "resource_client = ResourceManagementClient(credential, subscription)\n",
    "\n",
    "compute_client = ComputeManagementClient(credential, subscription)\n",
    "\n",
    "ts_client = TemplateSpecsClient(credential, subscription)"
   ]
  },
  {
   "cell_type": "markdown",
   "metadata": {},
   "source": [
    "## Create the workspace and secured resources"
   ]
  },
  {
   "cell_type": "markdown",
   "metadata": {},
   "source": [
    "### Create identity"
   ]
  },
  {
   "cell_type": "code",
   "execution_count": null,
   "metadata": {},
   "outputs": [],
   "source": [
    "deployment = resource_client.deployments.begin_create_or_update(\n",
    "    resource_group_name=resource_group,\n",
    "    deployment_name=f\"{suffix}-uai\",\n",
    "    parameters={\"properties\" : {\n",
    "        \"mode\" : \"Incremental\",\n",
    "        \"template\" : json.loads(Path(\"vnet/setup_ws/uai.json\").read_text()), \n",
    "        \"parameters\" : {\n",
    "            \"suffix\" : {\n",
    "                \"value\" : f\"{suffix}\"},\n",
    "        }\n",
    "        }\n",
    "    }\n",
    ").result()"
   ]
  },
  {
   "cell_type": "markdown",
   "metadata": {},
   "source": [
    "### Create workspace"
   ]
  },
  {
   "cell_type": "code",
   "execution_count": null,
   "metadata": {},
   "outputs": [],
   "source": [
    "tempspec_root = Path(\"vnet/setup_ws\")\n",
    "\n",
    "tempspec = ts_client.template_spec_versions.create_or_update(\n",
    "    template_spec_name=\"test\",\n",
    "    template_spec_version=str(_rand),\n",
    "    resource_group_name=resource_group,\n",
    "    template_spec_version_model={\n",
    "        \"location\": \"eastus\",\n",
    "        \"linked_templates\": [\n",
    "            {\n",
    "                \"template\": json.loads(f.read_text()),\n",
    "                \"path\": str(f.relative_to(tempspec_root)),\n",
    "            }\n",
    "            for f in (tempspec_root / \"modules\").iterdir()\n",
    "        ],\n",
    "        \"main_template\": json.loads((tempspec_root / \"main-linked.json\").read_text()),\n",
    "    }\n",
    ").result()"
   ]
  },
  {
   "cell_type": "code",
   "execution_count": null,
   "metadata": {},
   "outputs": [],
   "source": [
    "deployment = resource_client.deployments.begin_create_or_update(\n",
    "    resource_group_name=resource_group,\n",
    "    deployment_name=suffix,\n",
    "    parameters={ \"properties\" :{\n",
    "            \"mode\" : \"Incremental\",\n",
    "            \"template_link\": {\n",
    "                \"id\" : tempspec.id\n",
    "            },\n",
    "            \"parameters\" : {\n",
    "                \"suffix\": {\n",
    "                    \"value\" : suffix\n",
    "                }\n",
    "            }\n",
    "        }\n",
    "    }\n",
    ").result()"
   ]
  },
  {
   "cell_type": "markdown",
   "metadata": {},
   "source": [
    "## Create the Virtual Machine Jump Box"
   ]
  },
  {
   "cell_type": "code",
   "execution_count": null,
   "metadata": {},
   "outputs": [],
   "source": [
    "deployment = resource_client.deployments.begin_create_or_update(\n",
    "    resource_group_name=resource_group,\n",
    "    deployment_name=f\"{vm_name}-{endpoint_name}\",\n",
    "    parameters={\"properties\" : {\n",
    "        \"mode\" : \"Incremental\",\n",
    "        \"template\" : json.loads(Path(\"vnet/setup_vm/vm-main.json\").read_text()), \n",
    "        \"parameters\" : {\n",
    "            \"vmName\" : { \"value\" : vm_name },\n",
    "            \"vnetName\" : {\"value\" : vnet_name},\n",
    "            \"identityName\" : {\"value\" : identity_name},\n",
    "            \"subnetName\" : {\"value\" : subnet_name},\n",
    "            }\n",
    "        }\n",
    "    }\n",
    ").result()"
   ]
  },
  {
   "cell_type": "markdown",
   "metadata": {},
   "source": [
    "## Configure the VM - Using VM Commands\n",
    "The following scripts use the `RunShellScript` VM command to run Python scripts that setup the VM, create a Managed Online Endpoint, and score it. The scripts can also be run using ssh using the commands in `ssh_commands.sh` in the section below."
   ]
  },
  {
   "cell_type": "markdown",
   "metadata": {},
   "source": [
    "### Execute the setup script"
   ]
  },
  {
   "cell_type": "code",
   "execution_count": null,
   "metadata": {},
   "outputs": [],
   "source": [
    "command = compute_client.virtual_machines.begin_run_command(\n",
    "    resource_group_name=resource_group,\n",
    "    vm_name=vm_name,\n",
    "    parameters={\n",
    "        \"source\": {\"script\": Path(\"vnet/setup_vm/scripts/vmsetup.sh\").read_text()},\n",
    "        \"command_type\": \"RunShellScript\",\n",
    "        \"parameters\": [\n",
    "            {\"name\" : \"SUBSCRIPTION\",\n",
    "            \"value\" : subscription},\n",
    "            {\"name\" : \"RESOURCE_GROUP\",\n",
    "            \"value\" : resource_group},\n",
    "            {\"name\" : \"LOCATION\",\n",
    "            \"value\" : location},\n",
    "            {\"name\" : \"WORKSPACE\",\n",
    "            \"value\" : workspace},\n",
    "            {\"name\" : \"IDENTITY_NAME\",\n",
    "            \"value\" : identity_name}\n",
    "        ]\n",
    "    }\n",
    ").result()"
   ]
  },
  {
   "cell_type": "markdown",
   "metadata": {},
   "source": [
    "### Build Image"
   ]
  },
  {
   "cell_type": "code",
   "execution_count": null,
   "metadata": {},
   "outputs": [],
   "source": [
    "command = compute_client.virtual_machines.begin_run_command(\n",
    "    resource_group_name=resource_group,\n",
    "    vm_name=vm_name,\n",
    "    parameters={\n",
    "        \"source\": {\"script\": Path(\"vnet/setup_vm/scripts/run_py.sh\").read_text()},\n",
    "        \"command_type\": \"RunShellScript\",\n",
    "        \"parameters\": [\n",
    "            {\"name\" : \"SCRIPT_NAME\",\n",
    "            \"value\" : \"build_image.py\"},\n",
    "            {\"name\" : \"SUBSCRIPTION\",\n",
    "            \"value\" : subscription},\n",
    "            {\"name\" : \"RESOURCE_GROUP\",\n",
    "            \"value\" : resource_group},\n",
    "            {\"name\" : \"IDENTITY_NAME\",\n",
    "            \"value\" : identity_name},\n",
    "            {\"name\" : \"LOCATION\",\n",
    "            \"value\" : location},\n",
    "            {\"name\" : \"WORKSPACE\",\n",
    "            \"value\" : workspace},\n",
    "            {\"name\" : \"ACR_NAME\",\n",
    "            \"value\" : acr_name},\n",
    "            {\"name\" : \"IDENTITY_NAME\",\n",
    "            \"value\" : identity_name}\n",
    "        ]\n",
    "    }\n",
    ").result()"
   ]
  },
  {
   "cell_type": "markdown",
   "metadata": {},
   "source": [
    "### Create the Managed Online Endpoint"
   ]
  },
  {
   "cell_type": "code",
   "execution_count": null,
   "metadata": {},
   "outputs": [],
   "source": [
    "command = compute_client.virtual_machines.begin_run_command(\n",
    "    resource_group_name=resource_group,\n",
    "    vm_name=vm_name,\n",
    "    parameters={\n",
    "        \"source\": {\"script\": Path(\"vnet/setup_vm/scripts/run_py.sh\").read_text()},\n",
    "        \"command_type\": \"RunShellScript\",\n",
    "        \"parameters\": [\n",
    "            {\"name\" : \"SCRIPT_NAME\",\n",
    "            \"value\" : \"create_moe.py\"},\n",
    "            {\"name\" : \"SUBSCRIPTION\",\n",
    "            \"value\" : subscription},\n",
    "            {\"name\" : \"RESOURCE_GROUP\",\n",
    "            \"value\" : resource_group},\n",
    "            {\"name\" : \"IDENTITY_NAME\",\n",
    "            \"value\" : identity_name},\n",
    "            {\"name\" : \"LOCATION\",\n",
    "            \"value\" : location},\n",
    "            {\"name\" : \"WORKSPACE\",\n",
    "            \"value\" : workspace},\n",
    "            {\"name\" : \"ACR_NAME\",\n",
    "            \"value\" : acr_name},\n",
    "            {\"name\" : \"IDENTITY_NAME\",\n",
    "            \"value\" : identity_name}\n",
    "        ]\n",
    "    }\n",
    ").result()"
   ]
  },
  {
   "cell_type": "markdown",
   "metadata": {},
   "source": [
    "## Configure the VM - Interactively Over SSH "
   ]
  },
  {
   "cell_type": "markdown",
   "metadata": {},
   "source": [
    "### Connect via SSH"
   ]
  },
  {
   "cell_type": "code",
   "execution_count": null,
   "metadata": {
    "vscode": {
     "languageId": "shellscript"
    }
   },
   "outputs": [],
   "source": [
    "ssh $USER@$HOST -t \"export SUBSCRIPTION=<SUBSCRIPTION>; export RESOURCE_GROUP=<RESOURCE_GROUP>; bash -l\" "
   ]
  },
  {
   "cell_type": "markdown",
   "metadata": {},
   "source": [
    "### Setup VM"
   ]
  },
  {
   "cell_type": "code",
   "execution_count": null,
   "metadata": {
    "vscode": {
     "languageId": "shellscript"
    }
   },
   "outputs": [],
   "source": [
    "export USER=$(whoami)\n",
    "sudo apt-get update -y && sudo apt install wget -y\n",
    "sudo mkdir -p /home/$USER/samples; sudo git clone -b $GIT_BRANCH --depth 1 https://github.com/Azure/azureml-examples.git /home/$USER/samples/azureml-examples -q\n",
    "\n",
    "cd /home/$USER/samples/azureml-examples/sdk/python/endpoints/online/managed/vnet/setup_vm/scripts\n",
    "\n",
    "wget https://repo.anaconda.com/miniconda/Miniconda3-latest-Linux-x86_64.sh \n",
    "sudo chmod +x Miniconda3-latest-Linux-x86_64.sh\n",
    "sudo ./Miniconda3-latest-Linux-x86_64.sh -b -p /opt/anaconda\n",
    "eval \"$(/opt/anaconda/bin/conda shell.bash hook)\"\n",
    "conda create -n vnet python=3.10.4 -y\n",
    "conda activate vnet\n",
    "\n",
    "pip install azure-ai-ml azure-mgmt-containerregistry azure-storage-blob\n",
    "\n",
    "eval \"$(/opt/anaconda/bin/conda shell.bash hook)\"\n",
    "conda activate vnet"
   ]
  },
  {
   "cell_type": "markdown",
   "metadata": {},
   "source": [
    "### Build Image"
   ]
  },
  {
   "cell_type": "code",
   "execution_count": null,
   "metadata": {
    "vscode": {
     "languageId": "shellscript"
    }
   },
   "outputs": [],
   "source": [
    "python build_image.py"
   ]
  },
  {
   "cell_type": "markdown",
   "metadata": {},
   "source": [
    "### Create a secured managed online endpoint"
   ]
  },
  {
   "cell_type": "code",
   "execution_count": null,
   "metadata": {
    "vscode": {
     "languageId": "shellscript"
    }
   },
   "outputs": [],
   "source": [
    "python create_moe.py"
   ]
  },
  {
   "cell_type": "markdown",
   "metadata": {},
   "source": [
    "## Cleanup"
   ]
  },
  {
   "cell_type": "markdown",
   "metadata": {},
   "source": [
    "### Delete the endpoint"
   ]
  },
  {
   "cell_type": "code",
   "execution_count": null,
   "metadata": {},
   "outputs": [],
   "source": [
    "ml_client.online_endpoints.begin_delete(name=endpoint_name).wait()"
   ]
  },
  {
   "cell_type": "markdown",
   "metadata": {},
   "source": [
    "### Delete the VM"
   ]
  },
  {
   "cell_type": "code",
   "execution_count": null,
   "metadata": {},
   "outputs": [],
   "source": [
    "compute_client.virtual_machines.begin_delete(resource_group_name=resource_group, vm_name=vm_name).wait()"
   ]
  }
 ],
 "metadata": {
  "kernelspec": {
   "display_name": "Python 3.10.4 ('network')",
   "language": "python",
   "name": "python3"
  },
  "language_info": {
   "codemirror_mode": {
    "name": "ipython",
    "version": 3
   },
   "file_extension": ".py",
   "mimetype": "text/x-python",
   "name": "python",
   "nbconvert_exporter": "python",
   "pygments_lexer": "ipython3",
   "version": "3.10.4"
  },
  "vscode": {
   "interpreter": {
    "hash": "ee2b5cd424532374c8e4812d1cf713a3a2e75373848f740b286e76efa2fcd014"
   }
  }
 },
 "nbformat": 4,
 "nbformat_minor": 2
}
