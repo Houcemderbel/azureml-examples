{
 "cells": [
  {
   "cell_type": "markdown",
   "metadata": {},
   "source": [
    "Copyright (c) Microsoft Corporation. All rights reserved.\n",
    "\n",
    "Licensed under the MIT License."
   ]
  },
  {
   "cell_type": "markdown",
   "metadata": {},
   "source": [
    "# Build ML Pipeline with if-else node\n",
    "\n",
    "In the [get started](../../../samples/basics//get-started.ipynb) tutorial we have introduced how to build an ML pipeline by using Azure Machine Learning components. In this tutorial, you will learn how to build pipeline with if-else node.\n",
    "\n"
   ]
  },
  {
   "cell_type": "markdown",
   "metadata": {},
   "source": [
    "## Prerequisites\n",
    "* Install private version of packages following the [instructions here](../README.md)."
   ]
  },
  {
   "cell_type": "markdown",
   "metadata": {},
   "source": [
    "# 1. Connect to Azure Machine Learning Workspace\n",
    "\n",
    "The [workspace](https://docs.microsoft.com/en-us/azure/machine-learning/concept-workspace) is the top-level resource for Azure Machine Learning, providing a centralized place to work with all the artifacts you create when you use Azure Machine Learning. In this section we will connect to the workspace in which the job will be run.\n",
    "\n",
    "## 1.1 Enable private features"
   ]
  },
  {
   "cell_type": "code",
   "execution_count": 1,
   "metadata": {},
   "outputs": [],
   "source": [
    "# Import required libraries\n",
    "import os\n",
    "\n",
    "\n",
    "# enable private features\n",
    "os.environ[\"AZURE_ML_CLI_PRIVATE_FEATURES_ENABLED\"] = \"True\""
   ]
  },
  {
   "cell_type": "markdown",
   "metadata": {},
   "source": [
    "## 1.2 Get a handle to the workspace\n",
    "\n",
    "We use config file to connect to a workspace. The Azure ML workspace should be configured with computer cluster. [Check this notebook for configure a workspace](../../configuration.ipynb)"
   ]
  },
  {
   "cell_type": "code",
   "execution_count": 2,
   "metadata": {},
   "outputs": [
    {
     "name": "stdout",
     "output_type": "stream",
     "text": [
      "AmlCompute({'type': 'amlcompute', 'created_on': None, 'provisioning_state': 'Succeeded', 'provisioning_errors': None, 'name': 'gpu-cluster-nc6s', 'description': None, 'tags': {}, 'properties': {}, 'id': '/subscriptions/381b38e9-9840-4719-a5a0-61d9585e1e91/resourceGroups/automlimage_eastus2_rg/providers/Microsoft.MachineLearningServices/workspaces/risha-ws-eastus2/computes/gpu-cluster-nc6s', 'Resource__source_path': None, 'base_path': 'E:\\\\AutoML\\\\Repos\\\\azureml-examples\\\\sdk\\\\python\\\\jobs\\\\pipelines\\\\1j_pipeline_with_condition_flow\\\\if-else', 'creation_context': None, 'serialize': <msrest.serialization.Serializer object at 0x00000195E2632D00>, 'resource_id': None, 'location': 'eastus2', 'size': 'STANDARD_NC6S_V3', 'min_instances': 1, 'max_instances': 22, 'idle_time_before_scale_down': 120.0, 'identity': None, 'ssh_public_access_enabled': True, 'ssh_settings': None, 'network_settings': None, 'tier': 'dedicated', 'subnet': None})\n"
     ]
    }
   ],
   "source": [
    "from azure.ai.ml import MLClient\n",
    "from azure.identity import DefaultAzureCredential, InteractiveBrowserCredential\n",
    "\n",
    "\n",
    "subscription_id = \"381b38e9-9840-4719-a5a0-61d9585e1e91\"\n",
    "resource_group = \"automlimage_eastus2_rg\"\n",
    "workspace = \"risha-ws-eastus2\"\n",
    "ml_client = MLClient(DefaultAzureCredential(), subscription_id, resource_group, workspace)\n",
    "\n",
    "# Retrieve an already attached Azure Machine Learning Compute.\n",
    "cluster_name = \"gpu-cluster-nc6s\"\n",
    "print(ml_client.compute.get(cluster_name))"
   ]
  },
  {
   "cell_type": "code",
   "execution_count": 3,
   "metadata": {},
   "outputs": [
    {
     "name": "stdout",
     "output_type": "stream",
     "text": [
      "Requirement already satisfied: azure-ai-ml in c:\\users\\risha\\anaconda3\\envs\\sdkv2\\lib\\site-packages (1.2.0)\n",
      "Requirement already satisfied: pydash<6.0.0 in c:\\users\\risha\\anaconda3\\envs\\sdkv2\\lib\\site-packages (from azure-ai-ml) (5.1.2)\n",
      "Requirement already satisfied: opencensus-ext-azure<2.0.0 in c:\\users\\risha\\anaconda3\\envs\\sdkv2\\lib\\site-packages (from azure-ai-ml) (1.1.7)\n",
      "Requirement already satisfied: typing-extensions<5.0.0 in c:\\users\\risha\\anaconda3\\envs\\sdkv2\\lib\\site-packages (from azure-ai-ml) (4.4.0)\n",
      "Requirement already satisfied: azure-storage-blob<13.0.0,>=12.10.0 in c:\\users\\risha\\anaconda3\\envs\\sdkv2\\lib\\site-packages (from azure-ai-ml) (12.14.1)\n",
      "Requirement already satisfied: azure-mgmt-core<2.0.0,>=1.3.0 in c:\\users\\risha\\anaconda3\\envs\\sdkv2\\lib\\site-packages (from azure-ai-ml) (1.3.2)\n",
      "Requirement already satisfied: isodate in c:\\users\\risha\\anaconda3\\envs\\sdkv2\\lib\\site-packages (from azure-ai-ml) (0.6.1)\n",
      "Requirement already satisfied: strictyaml<2.0.0 in c:\\users\\risha\\anaconda3\\envs\\sdkv2\\lib\\site-packages (from azure-ai-ml) (1.6.1)\n",
      "Requirement already satisfied: azure-storage-file-datalake<13.0.0 in c:\\users\\risha\\anaconda3\\envs\\sdkv2\\lib\\site-packages (from azure-ai-ml) (12.9.1)\n",
      "Requirement already satisfied: azure-storage-file-share<13.0.0 in c:\\users\\risha\\anaconda3\\envs\\sdkv2\\lib\\site-packages (from azure-ai-ml) (12.10.1)\n",
      "Requirement already satisfied: colorama<0.5.0 in c:\\users\\risha\\anaconda3\\envs\\sdkv2\\lib\\site-packages (from azure-ai-ml) (0.4.4)\n",
      "Requirement already satisfied: pyyaml<7.0.0,>=5.1.0 in c:\\users\\risha\\anaconda3\\envs\\sdkv2\\lib\\site-packages (from azure-ai-ml) (6.0)\n",
      "Requirement already satisfied: azure-common<2.0.0,>=1.1 in c:\\users\\risha\\anaconda3\\envs\\sdkv2\\lib\\site-packages (from azure-ai-ml) (1.1.28)\n",
      "Requirement already satisfied: tqdm<5.0.0 in c:\\users\\risha\\anaconda3\\envs\\sdkv2\\lib\\site-packages (from azure-ai-ml) (4.63.0)\n",
      "Requirement already satisfied: msrest>=0.6.18 in c:\\users\\risha\\anaconda3\\envs\\sdkv2\\lib\\site-packages (from azure-ai-ml) (0.7.1)\n",
      "Requirement already satisfied: pyjwt<3.0.0 in c:\\users\\risha\\anaconda3\\envs\\sdkv2\\lib\\site-packages (from azure-ai-ml) (2.6.0)\n",
      "Requirement already satisfied: jsonschema<5.0.0,>=4.0.0 in c:\\users\\risha\\anaconda3\\envs\\sdkv2\\lib\\site-packages (from azure-ai-ml) (4.16.0)\n",
      "Requirement already satisfied: azure-core!=1.22.0,<2.0.0,>=1.8.0 in c:\\users\\risha\\anaconda3\\envs\\sdkv2\\lib\\site-packages (from azure-ai-ml) (1.26.2)\n",
      "Requirement already satisfied: marshmallow<4.0.0,>=3.5 in c:\\users\\risha\\anaconda3\\envs\\sdkv2\\lib\\site-packages (from azure-ai-ml) (3.19.0)\n",
      "Requirement already satisfied: requests>=2.18.4 in c:\\users\\risha\\anaconda3\\envs\\sdkv2\\lib\\site-packages (from azure-core!=1.22.0,<2.0.0,>=1.8.0->azure-ai-ml) (2.28.1)\n",
      "Requirement already satisfied: six>=1.11.0 in c:\\users\\risha\\anaconda3\\envs\\sdkv2\\lib\\site-packages (from azure-core!=1.22.0,<2.0.0,>=1.8.0->azure-ai-ml) (1.16.0)\n",
      "Requirement already satisfied: cryptography>=2.1.4 in c:\\users\\risha\\anaconda3\\envs\\sdkv2\\lib\\site-packages (from azure-storage-blob<13.0.0,>=12.10.0->azure-ai-ml) (38.0.4)\n",
      "Requirement already satisfied: importlib-resources>=1.4.0 in c:\\users\\risha\\anaconda3\\envs\\sdkv2\\lib\\site-packages (from jsonschema<5.0.0,>=4.0.0->azure-ai-ml) (5.2.0)\n",
      "Requirement already satisfied: pyrsistent!=0.17.0,!=0.17.1,!=0.17.2,>=0.14.0 in c:\\users\\risha\\anaconda3\\envs\\sdkv2\\lib\\site-packages (from jsonschema<5.0.0,>=4.0.0->azure-ai-ml) (0.18.0)\n",
      "Requirement already satisfied: attrs>=17.4.0 in c:\\users\\risha\\anaconda3\\envs\\sdkv2\\lib\\site-packages (from jsonschema<5.0.0,>=4.0.0->azure-ai-ml) (22.1.0)\n",
      "Requirement already satisfied: pkgutil-resolve-name>=1.3.10 in c:\\users\\risha\\anaconda3\\envs\\sdkv2\\lib\\site-packages (from jsonschema<5.0.0,>=4.0.0->azure-ai-ml) (1.3.10)\n",
      "Requirement already satisfied: packaging>=17.0 in c:\\users\\risha\\anaconda3\\envs\\sdkv2\\lib\\site-packages (from marshmallow<4.0.0,>=3.5->azure-ai-ml) (21.3)\n",
      "Requirement already satisfied: certifi>=2017.4.17 in c:\\users\\risha\\anaconda3\\envs\\sdkv2\\lib\\site-packages (from msrest>=0.6.18->azure-ai-ml) (2022.12.7)\n",
      "Requirement already satisfied: requests-oauthlib>=0.5.0 in c:\\users\\risha\\anaconda3\\envs\\sdkv2\\lib\\site-packages (from msrest>=0.6.18->azure-ai-ml) (1.3.1)\n",
      "Requirement already satisfied: psutil>=5.6.3 in c:\\users\\risha\\anaconda3\\envs\\sdkv2\\lib\\site-packages (from opencensus-ext-azure<2.0.0->azure-ai-ml) (5.9.4)\n",
      "Requirement already satisfied: opencensus<1.0.0,>=0.11.0 in c:\\users\\risha\\anaconda3\\envs\\sdkv2\\lib\\site-packages (from opencensus-ext-azure<2.0.0->azure-ai-ml) (0.11.0)\n",
      "Requirement already satisfied: azure-identity<2.0.0,>=1.5.0 in c:\\users\\risha\\anaconda3\\envs\\sdkv2\\lib\\site-packages (from opencensus-ext-azure<2.0.0->azure-ai-ml) (1.12.0)\n",
      "Requirement already satisfied: python-dateutil>=2.6.0 in c:\\users\\risha\\anaconda3\\envs\\sdkv2\\lib\\site-packages (from strictyaml<2.0.0->azure-ai-ml) (2.8.2)\n",
      "Requirement already satisfied: msal-extensions<2.0.0,>=0.3.0 in c:\\users\\risha\\anaconda3\\envs\\sdkv2\\lib\\site-packages (from azure-identity<2.0.0,>=1.5.0->opencensus-ext-azure<2.0.0->azure-ai-ml) (1.0.0)\n",
      "Requirement already satisfied: msal<2.0.0,>=1.12.0 in c:\\users\\risha\\anaconda3\\envs\\sdkv2\\lib\\site-packages (from azure-identity<2.0.0,>=1.5.0->opencensus-ext-azure<2.0.0->azure-ai-ml) (1.20.0)\n",
      "Requirement already satisfied: cffi>=1.12 in c:\\users\\risha\\anaconda3\\envs\\sdkv2\\lib\\site-packages (from cryptography>=2.1.4->azure-storage-blob<13.0.0,>=12.10.0->azure-ai-ml) (1.15.1)\n",
      "Requirement already satisfied: zipp>=3.1.0 in c:\\users\\risha\\anaconda3\\envs\\sdkv2\\lib\\site-packages (from importlib-resources>=1.4.0->jsonschema<5.0.0,>=4.0.0->azure-ai-ml) (3.11.0)\n",
      "Requirement already satisfied: google-api-core<3.0.0,>=1.0.0 in c:\\users\\risha\\anaconda3\\envs\\sdkv2\\lib\\site-packages (from opencensus<1.0.0,>=0.11.0->opencensus-ext-azure<2.0.0->azure-ai-ml) (2.11.0)\n",
      "Requirement already satisfied: opencensus-context>=0.1.3 in c:\\users\\risha\\anaconda3\\envs\\sdkv2\\lib\\site-packages (from opencensus<1.0.0,>=0.11.0->opencensus-ext-azure<2.0.0->azure-ai-ml) (0.1.3)\n",
      "Requirement already satisfied: pyparsing!=3.0.5,>=2.0.2 in c:\\users\\risha\\anaconda3\\envs\\sdkv2\\lib\\site-packages (from packaging>=17.0->marshmallow<4.0.0,>=3.5->azure-ai-ml) (3.0.9)\n",
      "Requirement already satisfied: urllib3<1.27,>=1.21.1 in c:\\users\\risha\\anaconda3\\envs\\sdkv2\\lib\\site-packages (from requests>=2.18.4->azure-core!=1.22.0,<2.0.0,>=1.8.0->azure-ai-ml) (1.26.13)\n",
      "Requirement already satisfied: charset-normalizer<3,>=2 in c:\\users\\risha\\anaconda3\\envs\\sdkv2\\lib\\site-packages (from requests>=2.18.4->azure-core!=1.22.0,<2.0.0,>=1.8.0->azure-ai-ml) (2.1.1)\n",
      "Requirement already satisfied: idna<4,>=2.5 in c:\\users\\risha\\anaconda3\\envs\\sdkv2\\lib\\site-packages (from requests>=2.18.4->azure-core!=1.22.0,<2.0.0,>=1.8.0->azure-ai-ml) (3.4)\n",
      "Requirement already satisfied: oauthlib>=3.0.0 in c:\\users\\risha\\anaconda3\\envs\\sdkv2\\lib\\site-packages (from requests-oauthlib>=0.5.0->msrest>=0.6.18->azure-ai-ml) (3.2.2)\n",
      "Requirement already satisfied: pycparser in c:\\users\\risha\\anaconda3\\envs\\sdkv2\\lib\\site-packages (from cffi>=1.12->cryptography>=2.1.4->azure-storage-blob<13.0.0,>=12.10.0->azure-ai-ml) (2.21)\n",
      "Requirement already satisfied: google-auth<3.0dev,>=2.14.1 in c:\\users\\risha\\anaconda3\\envs\\sdkv2\\lib\\site-packages (from google-api-core<3.0.0,>=1.0.0->opencensus<1.0.0,>=0.11.0->opencensus-ext-azure<2.0.0->azure-ai-ml) (2.15.0)\n",
      "Requirement already satisfied: googleapis-common-protos<2.0dev,>=1.56.2 in c:\\users\\risha\\anaconda3\\envs\\sdkv2\\lib\\site-packages (from google-api-core<3.0.0,>=1.0.0->opencensus<1.0.0,>=0.11.0->opencensus-ext-azure<2.0.0->azure-ai-ml) (1.57.1)\n",
      "Requirement already satisfied: protobuf!=3.20.0,!=3.20.1,!=4.21.0,!=4.21.1,!=4.21.2,!=4.21.3,!=4.21.4,!=4.21.5,<5.0.0dev,>=3.19.5 in c:\\users\\risha\\anaconda3\\envs\\sdkv2\\lib\\site-packages (from google-api-core<3.0.0,>=1.0.0->opencensus<1.0.0,>=0.11.0->opencensus-ext-azure<2.0.0->azure-ai-ml) (4.21.12)\n",
      "Requirement already satisfied: portalocker<3,>=1.6 in c:\\users\\risha\\anaconda3\\envs\\sdkv2\\lib\\site-packages (from msal-extensions<2.0.0,>=0.3.0->azure-identity<2.0.0,>=1.5.0->opencensus-ext-azure<2.0.0->azure-ai-ml) (2.6.0)\n",
      "Requirement already satisfied: cachetools<6.0,>=2.0.0 in c:\\users\\risha\\anaconda3\\envs\\sdkv2\\lib\\site-packages (from google-auth<3.0dev,>=2.14.1->google-api-core<3.0.0,>=1.0.0->opencensus<1.0.0,>=0.11.0->opencensus-ext-azure<2.0.0->azure-ai-ml) (5.2.0)\n",
      "Requirement already satisfied: rsa<5,>=3.1.4 in c:\\users\\risha\\anaconda3\\envs\\sdkv2\\lib\\site-packages (from google-auth<3.0dev,>=2.14.1->google-api-core<3.0.0,>=1.0.0->opencensus<1.0.0,>=0.11.0->opencensus-ext-azure<2.0.0->azure-ai-ml) (4.9)\n",
      "Requirement already satisfied: pyasn1-modules>=0.2.1 in c:\\users\\risha\\anaconda3\\envs\\sdkv2\\lib\\site-packages (from google-auth<3.0dev,>=2.14.1->google-api-core<3.0.0,>=1.0.0->opencensus<1.0.0,>=0.11.0->opencensus-ext-azure<2.0.0->azure-ai-ml) (0.2.8)\n",
      "Requirement already satisfied: pywin32>=226 in c:\\users\\risha\\anaconda3\\envs\\sdkv2\\lib\\site-packages (from portalocker<3,>=1.6->msal-extensions<2.0.0,>=0.3.0->azure-identity<2.0.0,>=1.5.0->opencensus-ext-azure<2.0.0->azure-ai-ml) (305)\n",
      "Requirement already satisfied: pyasn1<0.5.0,>=0.4.6 in c:\\users\\risha\\anaconda3\\envs\\sdkv2\\lib\\site-packages (from pyasn1-modules>=0.2.1->google-auth<3.0dev,>=2.14.1->google-api-core<3.0.0,>=1.0.0->opencensus<1.0.0,>=0.11.0->opencensus-ext-azure<2.0.0->azure-ai-ml) (0.4.8)\n",
      "Note: you may need to restart the kernel to use updated packages.\n"
     ]
    },
    {
     "name": "stdout",
     "output_type": "stream",
     "text": [
      "Looking in indexes: https://pypi.org/simple, https://azuremlsdktestpypi.azureedge.net/sdk-cli-v2\n",
      "Requirement already satisfied: mldesigner==0.0.80281497 in c:\\users\\risha\\anaconda3\\envs\\sdkv2\\lib\\site-packages (0.0.80281497)\n",
      "Requirement already satisfied: typing-extensions<5.0.0 in c:\\users\\risha\\anaconda3\\envs\\sdkv2\\lib\\site-packages (from mldesigner==0.0.80281497) (4.4.0)\n",
      "Note: you may need to restart the kernel to use updated packages.\n"
     ]
    }
   ],
   "source": [
    "# %pip install azure-ai-ml==1.1.0a20221019005 --extra-index-url https://pkgs.dev.azure.com/azure-sdk/public/_packaging/azure-sdk-for-python/pypi/simple/\n",
    "%pip install azure-ai-ml\n",
    "%pip install mldesigner==0.0.80281497 --extra-index-url=https://azuremlsdktestpypi.azureedge.net/sdk-cli-v2"
   ]
  },
  {
   "cell_type": "markdown",
   "metadata": {},
   "source": [
    "## 2. Build pipeline with if-else node\n",
    "### 2.1 Create a component with conditional output"
   ]
  },
  {
   "cell_type": "code",
   "execution_count": 4,
   "metadata": {},
   "outputs": [
    {
     "name": "stderr",
     "output_type": "stream",
     "text": [
      "[2023-01-09 15:59:19,627][mldesigner][WARNING] - Mldesigner requires azure-ai-ml >= 1.2.0 package to be fully functional.It's highly recommended to install the latest azure-ai-ml package.\n"
     ]
    }
   ],
   "source": [
    "from framework_selector_with_boolean_output import framework_selector"
   ]
  },
  {
   "cell_type": "markdown",
   "metadata": {},
   "source": [
    "### 2.2 pipeline with if-else node"
   ]
  },
  {
   "cell_type": "code",
   "execution_count": 5,
   "metadata": {},
   "outputs": [],
   "source": [
    "from mldesigner.dsl import condition # will merger to core sdk package\n",
    "from azure.ai.ml import Input, load_component\n",
    "from azure.ai.ml.dsl import pipeline\n",
    "\n",
    "\n",
    "hf_component = load_component(\n",
    "    source=\"dummy_hf_od_component.yaml\"\n",
    ")\n",
    "\n",
    "#automl_image_od_component = load_component(\n",
    "#    source=\"azureml://registries/azureml-staging/components/train_object_detection_model/versions/0.0.2-previewazureml-staging.1662484049\"\n",
    "#)\n",
    "\n",
    "automl_image_od_component = load_component(\n",
    "        client=ml_client, name=\"train_object_detection_model\", version=\"3\")\n",
    "\n",
    "@pipeline()\n",
    "def condition_pipeline():\n",
    "    result = framework_selector()\n",
    "    runtime = automl_image_od_component(\n",
    "        training_data=\"azureml://datastores/workspaceblobstore/paths/vision-od/train/\",\n",
    "        validation_data=\"azureml://datastores/workspaceblobstore/paths/vision-od/valid/\"\n",
    "    )\n",
    "    hf = hf_component(model_name='yolov5')\n",
    "    condition(condition=result.outputs.output, false_block=hf, true_block=runtime)\n",
    "\n",
    "pipeline_job = condition_pipeline()\n",
    "\n",
    "# set pipeline level compute\n",
    "pipeline_job.settings.default_compute = cluster_name"
   ]
  },
  {
   "cell_type": "code",
   "execution_count": 6,
   "metadata": {
    "scrolled": false
   },
   "outputs": [
    {
     "name": "stderr",
     "output_type": "stream",
     "text": [
      "Method validate: This is an experimental method, and may change at any time. Please see https://aka.ms/azuremlexperimental for more information.\n"
     ]
    },
    {
     "data": {
      "text/plain": [
       "{\n",
       "  \"result\": \"Succeeded\"\n",
       "}"
      ]
     },
     "execution_count": 6,
     "metadata": {},
     "output_type": "execute_result"
    }
   ],
   "source": [
    "# validate pipeline\n",
    "ml_client.jobs.validate(pipeline_job)"
   ]
  },
  {
   "cell_type": "markdown",
   "metadata": {},
   "source": [
    "### 2.3 Run pipeline job"
   ]
  },
  {
   "cell_type": "code",
   "execution_count": 7,
   "metadata": {
    "tags": []
   },
   "outputs": [
    {
     "name": "stderr",
     "output_type": "stream",
     "text": [
      "\u001b[32mUploading if-else (0.03 MBs): 100%|##########################################################| 34823/34823 [00:00<00:00, 80897.09it/s]\u001b[0m\n",
      "\u001b[39m\n",
      "\n"
     ]
    },
    {
     "data": {
      "text/html": [
       "<table style=\"width:100%\"><tr><th>Experiment</th><th>Name</th><th>Type</th><th>Status</th><th>Details Page</th></tr><tr><td>pipeline_samples</td><td>sincere_pump_b6rt83ss7f</td><td>pipeline</td><td>Preparing</td><td><a href=\"https://ml.azure.com/runs/sincere_pump_b6rt83ss7f?wsid=/subscriptions/381b38e9-9840-4719-a5a0-61d9585e1e91/resourcegroups/automlimage_eastus2_rg/workspaces/risha-ws-eastus2&amp;tid=72f988bf-86f1-41af-91ab-2d7cd011db47\" target=\"_blank\" rel=\"noopener\">Link to Azure Machine Learning studio</a></td></tr></table>"
      ],
      "text/plain": [
       "PipelineJob({'inputs': {}, 'outputs': {}, 'jobs': {}, 'component': PipelineComponent({'auto_increment_version': False, 'source': 'REMOTE.WORKSPACE.JOB', 'is_anonymous': True, 'name': 'azureml_anonymous', 'description': None, 'tags': {}, 'properties': {}, 'id': None, 'Resource__source_path': None, 'base_path': None, 'creation_context': None, 'serialize': <msrest.serialization.Serializer object at 0x00000195E4487B50>, 'version': '1', 'latest_version': None, 'schema': None, 'type': 'pipeline', 'display_name': 'condition_pipeline', 'is_deterministic': None, 'inputs': {}, 'outputs': {}, 'yaml_str': None, 'other_parameter': {}, 'jobs': {'result': Command({'parameters': {}, 'init': False, 'type': 'command', 'status': None, 'log_files': None, 'name': 'result', 'description': None, 'tags': {}, 'properties': {}, 'id': None, 'Resource__source_path': None, 'base_path': None, 'creation_context': None, 'serialize': <msrest.serialization.Serializer object at 0x00000195E3333970>, 'allowed_keys': {}, 'key_restriction': False, 'logger': <Logger attr_dict (WARNING)>, 'display_name': None, 'experiment_name': None, 'compute': None, 'services': None, 'comment': None, 'job_inputs': {}, 'job_outputs': {}, 'inputs': {}, 'outputs': {}, 'component': 'azureml_anonymous:17df51af-021d-409d-ab1a-e58ab251d688', 'referenced_control_flow_node_instance_id': None, 'kwargs': {'services': None}, 'instance_id': '2160105d-3cc5-426e-beb1-0e87f2dd097a', 'source': 'REMOTE.WORKSPACE.COMPONENT', 'validate_required_input_not_provided': True, 'limits': None, 'identity': None, 'distribution': None, 'environment_variables': {}, 'environment': None, 'resources': None, 'swept': False}), 'runtime': Command({'parameters': {}, 'init': False, 'type': 'command', 'status': None, 'log_files': None, 'name': 'runtime', 'description': None, 'tags': {}, 'properties': {}, 'id': None, 'Resource__source_path': None, 'base_path': None, 'creation_context': None, 'serialize': <msrest.serialization.Serializer object at 0x00000195E4487910>, 'allowed_keys': {}, 'key_restriction': False, 'logger': <Logger attr_dict (WARNING)>, 'display_name': None, 'experiment_name': None, 'compute': None, 'services': None, 'comment': None, 'job_inputs': {'training_data': {'type': 'mltable', 'path': 'azureml://datastores/workspaceblobstore/paths/vision-od/train/'}, 'validation_data': {'type': 'mltable', 'path': 'azureml://datastores/workspaceblobstore/paths/vision-od/valid/'}}, 'job_outputs': {}, 'inputs': {'training_data': <azure.ai.ml.entities._job.pipeline._io.base.NodeInput object at 0x00000195E4487BB0>, 'validation_data': <azure.ai.ml.entities._job.pipeline._io.base.NodeInput object at 0x00000195E4487BE0>}, 'outputs': {}, 'component': 'train_object_detection_model:3', 'referenced_control_flow_node_instance_id': None, 'kwargs': {'services': None}, 'instance_id': '2d91b3e2-5fa1-457e-b86b-a70c530e7b1e', 'source': 'REMOTE.WORKSPACE.COMPONENT', 'validate_required_input_not_provided': True, 'limits': None, 'identity': None, 'distribution': <azure.ai.ml.entities._job.distribution.PyTorchDistribution object at 0x00000195E4487AF0>, 'environment_variables': {}, 'environment': None, 'resources': {'instance_count': 1}, 'swept': False}), 'hf': Command({'parameters': {}, 'init': False, 'type': 'command', 'status': None, 'log_files': None, 'name': 'hf', 'description': None, 'tags': {}, 'properties': {}, 'id': None, 'Resource__source_path': None, 'base_path': None, 'creation_context': None, 'serialize': <msrest.serialization.Serializer object at 0x00000195E4487490>, 'allowed_keys': {}, 'key_restriction': False, 'logger': <Logger attr_dict (WARNING)>, 'display_name': None, 'experiment_name': None, 'compute': None, 'services': None, 'comment': None, 'job_inputs': {'model_name': 'yolov5'}, 'job_outputs': {}, 'inputs': {'model_name': <azure.ai.ml.entities._job.pipeline._io.base.NodeInput object at 0x00000195E4487CD0>}, 'outputs': {}, 'component': 'azureml_anonymous:cedcc3be-fd0d-4009-aa52-f2bde74972f5', 'referenced_control_flow_node_instance_id': None, 'kwargs': {'services': None}, 'instance_id': 'bbba2fd6-40da-408e-aefa-64ae2f643370', 'source': 'REMOTE.WORKSPACE.COMPONENT', 'validate_required_input_not_provided': True, 'limits': None, 'identity': None, 'distribution': None, 'environment_variables': {}, 'environment': None, 'resources': None, 'swept': False}), 'conditionnode': <azure.ai.ml.entities._builders.condition_node.ConditionNode object at 0x00000195E4487850>}, 'job_types': {'command': 3, 'if_else': 1}, 'job_sources': {'REMOTE.WORKSPACE.COMPONENT': 3, 'CLASS': 1}, 'source_job_id': None}), 'type': 'pipeline', 'status': 'Preparing', 'log_files': None, 'name': 'sincere_pump_b6rt83ss7f', 'description': None, 'tags': {}, 'properties': {'mlflow.source.git.repoURL': 'https://github.com/Azure/azureml-examples.git', 'mlflow.source.git.branch': 'lochen/condition', 'mlflow.source.git.commit': 'ba3b123c1d6e0853f60d32a0c730173547f1b203', 'azureml.git.dirty': 'True', 'azureml.DevPlatv2': 'true', 'azureml.runsource': 'azureml.PipelineRun', 'runSource': 'MFE', 'runType': 'HTTP', 'azureml.parameters': '{}', 'azureml.continue_on_step_failure': 'False', 'azureml.continue_on_failed_optional_input': 'True', 'azureml.defaultComputeName': 'gpu-cluster-nc6s', 'azureml.defaultDataStoreName': 'workspaceblobstore', 'azureml.pipelineComponent': 'pipelinerun'}, 'id': '/subscriptions/381b38e9-9840-4719-a5a0-61d9585e1e91/resourceGroups/automlimage_eastus2_rg/providers/Microsoft.MachineLearningServices/workspaces/risha-ws-eastus2/jobs/sincere_pump_b6rt83ss7f', 'Resource__source_path': None, 'base_path': 'E:\\\\AutoML\\\\Repos\\\\azureml-examples\\\\sdk\\\\python\\\\jobs\\\\pipelines\\\\1j_pipeline_with_condition_flow\\\\if-else', 'creation_context': <azure.ai.ml.entities._system_data.SystemData object at 0x00000195E4487D90>, 'serialize': <msrest.serialization.Serializer object at 0x00000195E442CB80>, 'display_name': 'condition_pipeline', 'experiment_name': 'pipeline_samples', 'compute': None, 'services': {'Tracking': <azure.ai.ml.entities._job.job_service.JobService object at 0x00000195E4487E50>, 'Studio': <azure.ai.ml.entities._job.job_service.JobService object at 0x00000195E442CFD0>}, 'settings': {}, 'identity': None, 'default_code': None, 'default_environment': None})"
      ]
     },
     "execution_count": 7,
     "metadata": {},
     "output_type": "execute_result"
    }
   ],
   "source": [
    "# pipeline parameter can be overridden when submit pipeline\n",
    "pipeline_job = ml_client.jobs.create_or_update(\n",
    "    pipeline_job, experiment_name=\"pipeline_samples\"\n",
    ")\n",
    "\n",
    "# show detail information of job\n",
    "pipeline_job"
   ]
  },
  {
   "cell_type": "code",
   "execution_count": null,
   "metadata": {
    "tags": []
   },
   "outputs": [],
   "source": [
    "# Wait until the job completes\n",
    "ml_client.jobs.stream(pipeline_job.name)"
   ]
  }
 ],
 "metadata": {
  "kernelspec": {
   "display_name": "Python 3 (ipykernel)",
   "language": "python",
   "name": "python3"
  },
  "language_info": {
   "codemirror_mode": {
    "name": "ipython",
    "version": 3
   },
   "file_extension": ".py",
   "mimetype": "text/x-python",
   "name": "python",
   "nbconvert_exporter": "python",
   "pygments_lexer": "ipython3",
   "version": "3.8.0"
  },
  "vscode": {
   "interpreter": {
    "hash": "1324ca334ec51c2d7d081a2ba1becf817802a54f2b6ebeab7f4908360bcde2e0"
   }
  }
 },
 "nbformat": 4,
 "nbformat_minor": 2
}
