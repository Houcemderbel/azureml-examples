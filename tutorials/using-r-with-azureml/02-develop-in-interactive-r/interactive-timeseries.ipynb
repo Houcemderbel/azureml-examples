{
  "cells": [
    {
      "cell_type": "markdown",
      "source": [
        "Add `/home/azureuser` to the R library path. You will need to do this to access user installed libraries in every interactive R script.\n"
      ],
      "metadata": {
        "nteract": {
          "transient": {
            "deleting": false
          }
        }
      }
    },
    {
      "cell_type": "code",
      "source": [
        ".libPaths(\"/home/azureuser\")"
      ],
      "outputs": [],
      "execution_count": 1,
      "metadata": {
        "jupyter": {
          "source_hidden": false,
          "outputs_hidden": false
        },
        "nteract": {
          "transient": {
            "deleting": false
          }
        },
        "gather": {
          "logged": 1670940812919
        }
      }
    },
    {
      "cell_type": "markdown",
      "source": [
        "Check that `/home/azureuser` shows up in the R library path:"
      ],
      "metadata": {
        "nteract": {
          "transient": {
            "deleting": false
          }
        }
      }
    },
    {
      "cell_type": "code",
      "source": [
        ".libPaths()"
      ],
      "outputs": [
        {
          "output_type": "display_data",
          "data": {
            "text/html": "<style>\n.list-inline {list-style: none; margin:0; padding: 0}\n.list-inline>li {display: inline-block}\n.list-inline>li:not(:last-child)::after {content: \"\\00b7\"; padding: 0 .5ex}\n</style>\n<ol class=list-inline><li>'/home/azureuser'</li><li>'/usr/local/lib/R/site-library'</li><li>'/usr/lib/R/site-library'</li><li>'/usr/lib/R/library'</li></ol>\n",
            "text/markdown": "1. '/home/azureuser'\n2. '/usr/local/lib/R/site-library'\n3. '/usr/lib/R/site-library'\n4. '/usr/lib/R/library'\n\n\n",
            "text/latex": "\\begin{enumerate*}\n\\item '/home/azureuser'\n\\item '/usr/local/lib/R/site-library'\n\\item '/usr/lib/R/site-library'\n\\item '/usr/lib/R/library'\n\\end{enumerate*}\n",
            "text/plain": "[1] \"/home/azureuser\"               \"/usr/local/lib/R/site-library\"\n[3] \"/usr/lib/R/site-library\"       \"/usr/lib/R/library\"           "
          },
          "metadata": {}
        }
      ],
      "execution_count": 2,
      "metadata": {
        "jupyter": {
          "source_hidden": false,
          "outputs_hidden": false
        },
        "nteract": {
          "transient": {
            "deleting": false
          }
        },
        "gather": {
          "logged": 1670940817230
        }
      }
    },
    {
      "cell_type": "markdown",
      "source": [
        "Load your required packages:"
      ],
      "metadata": {
        "nteract": {
          "transient": {
            "deleting": false
          }
        }
      }
    },
    {
      "cell_type": "code",
      "source": [
        "# Copyright (c) Microsoft Corporation.\n",
        "# Licensed under the MIT License.\n",
        "\n",
        "## NOTES\n",
        "\n",
        "# Code adapted, modified and optimized from the forecasting example \n",
        "# https://microsoft.github.io/forecasting/examples/grocery_sales/\n",
        "# https://github.com/microsoft/forecasting\n",
        "# accessed 11/14/2022\n",
        "\n",
        "# The source of the dataset is from the `bayesm` package and has been \n",
        "# saved as csv files and provided in the data/ directory.\n",
        "\n",
        "\n",
        "library(tidyverse)\n",
        "library(tsibble)\n",
        "#library(feasts)\n",
        "library(fable) # https://fable.tidyverts.org/index.html\n",
        "library(janitor) # https://github.com/sfirke/janitor\n"
      ],
      "outputs": [
        {
          "output_type": "stream",
          "name": "stderr",
          "text": "── \u001b[1mAttaching packages\u001b[22m ─────────────────────────────────────── tidyverse 1.3.2 ──\n\u001b[32m✔\u001b[39m \u001b[34mggplot2\u001b[39m 3.4.0      \u001b[32m✔\u001b[39m \u001b[34mpurrr  \u001b[39m 0.3.5 \n\u001b[32m✔\u001b[39m \u001b[34mtibble \u001b[39m 3.1.8      \u001b[32m✔\u001b[39m \u001b[34mdplyr  \u001b[39m 1.0.10\n\u001b[32m✔\u001b[39m \u001b[34mtidyr  \u001b[39m 1.2.1      \u001b[32m✔\u001b[39m \u001b[34mstringr\u001b[39m 1.4.1 \n\u001b[32m✔\u001b[39m \u001b[34mreadr  \u001b[39m 2.1.3      \u001b[32m✔\u001b[39m \u001b[34mforcats\u001b[39m 0.5.2 \n── \u001b[1mConflicts\u001b[22m ────────────────────────────────────────── tidyverse_conflicts() ──\n\u001b[31m✖\u001b[39m \u001b[34mdplyr\u001b[39m::\u001b[32mfilter()\u001b[39m masks \u001b[34mstats\u001b[39m::filter()\n\u001b[31m✖\u001b[39m \u001b[34mdplyr\u001b[39m::\u001b[32mlag()\u001b[39m    masks \u001b[34mstats\u001b[39m::lag()\n\nAttaching package: ‘tsibble’\n\n\nThe following objects are masked from ‘package:base’:\n\n    intersect, setdiff, union\n\n\nLoading required package: fabletools\n\n\nAttaching package: ‘janitor’\n\n\nThe following objects are masked from ‘package:stats’:\n\n    chisq.test, fisher.test\n\n\n"
        }
      ],
      "execution_count": 3,
      "metadata": {
        "gather": {
          "logged": 1670940821260
        }
      }
    },
    {
      "cell_type": "markdown",
      "source": [
        "In order to read a tabular dataset that is registered as a Data asset or stored in a Datastore, you will need to get the complete URI. The URI has the following form: `azureml://subscriptions/<subscription_id>/resourcegroups/<resource_group_name>/workspaces/<workspace_name>/datastores/<datastore_name>/<path/to/file>`"
      ],
      "metadata": {
        "nteract": {
          "transient": {
            "deleting": false
          }
        }
      }
    },
    {
      "cell_type": "code",
      "source": [
        "# change this value\n",
        "file_uri <- \"azureml://subscriptions/2fcb5846-b560-4f38-8b32-ed6dedcc0a38/resourcegroups/aml/workspaces/marckvaisman-aml-east2/datastores/workspaceblobstore/paths/LocalUpload/5ab5853aacb93e496303d56211098107/sales-data.csv\""
      ],
      "outputs": [],
      "execution_count": 4,
      "metadata": {
        "jupyter": {
          "source_hidden": false,
          "outputs_hidden": false
        },
        "nteract": {
          "transient": {
            "deleting": false
          }
        },
        "gather": {
          "logged": 1670940827242
        }
      }
    },
    {
      "cell_type": "code",
      "source": [
        "library(reticulate)\n",
        "use_condaenv(\"azureml_py38\")\n",
        "pd <- import(\"pandas\")"
      ],
      "outputs": [],
      "execution_count": 5,
      "metadata": {
        "jupyter": {
          "source_hidden": false,
          "outputs_hidden": false
        },
        "nteract": {
          "transient": {
            "deleting": false
          }
        },
        "gather": {
          "logged": 1670940838323
        }
      }
    },
    {
      "cell_type": "code",
      "source": [
        "oj_sales_read <- pd$read_csv(file_uri) |> \n",
        "  janitor::clean_names() |>\n",
        "  as_tibble()"
      ],
      "outputs": [],
      "execution_count": 6,
      "metadata": {
        "jupyter": {
          "source_hidden": false,
          "outputs_hidden": false
        },
        "nteract": {
          "transient": {
            "deleting": false
          }
        },
        "gather": {
          "logged": 1670940847950
        }
      }
    },
    {
      "cell_type": "code",
      "source": [
        "oj_sales_read |> glimpse()"
      ],
      "outputs": [
        {
          "output_type": "stream",
          "name": "stdout",
          "text": "Rows: 106,139\nColumns: 19\n$ store    \u001b[3m\u001b[90m<dbl>\u001b[39m\u001b[23m 2, 2, 2, 2, 2, 2, 2, 2, 2, 2, 2, 2, 2, 2, 2, 2, 2, 2, 2, 2, 2…\n$ brand    \u001b[3m\u001b[90m<dbl>\u001b[39m\u001b[23m 1, 1, 1, 1, 1, 1, 1, 1, 1, 1, 1, 1, 1, 1, 1, 1, 1, 1, 1, 1, 1…\n$ week     \u001b[3m\u001b[90m<dbl>\u001b[39m\u001b[23m 40, 46, 47, 48, 50, 51, 52, 53, 54, 57, 58, 59, 60, 61, 62, 6…\n$ logmove  \u001b[3m\u001b[90m<dbl>\u001b[39m\u001b[23m 9.018695, 8.723231, 8.253228, 8.987197, 9.093357, 8.877382, 9…\n$ constant \u001b[3m\u001b[90m<dbl>\u001b[39m\u001b[23m 1, 1, 1, 1, 1, 1, 1, 1, 1, 1, 1, 1, 1, 1, 1, 1, 1, 1, 1, 1, 1…\n$ price1   \u001b[3m\u001b[90m<dbl>\u001b[39m\u001b[23m 0.06046875, 0.06046875, 0.06046875, 0.06046875, 0.06046875, 0…\n$ price2   \u001b[3m\u001b[90m<dbl>\u001b[39m\u001b[23m 0.06049653, 0.06031250, 0.06031250, 0.06031250, 0.06031250, 0…\n$ price3   \u001b[3m\u001b[90m<dbl>\u001b[39m\u001b[23m 0.04203125, 0.04515625, 0.04515625, 0.04984375, 0.04359375, 0…\n$ price4   \u001b[3m\u001b[90m<dbl>\u001b[39m\u001b[23m 0.02953125, 0.04671875, 0.04671875, 0.03734375, 0.03109375, 0…\n$ price5   \u001b[3m\u001b[90m<dbl>\u001b[39m\u001b[23m 0.04953125, 0.04953125, 0.03734375, 0.04953125, 0.04953125, 0…\n$ price6   \u001b[3m\u001b[90m<dbl>\u001b[39m\u001b[23m 0.05302083, 0.04781250, 0.05302083, 0.05302083, 0.05302083, 0…\n$ price7   \u001b[3m\u001b[90m<dbl>\u001b[39m\u001b[23m 0.03890625, 0.04578125, 0.04578125, 0.04578125, 0.04664787, 0…\n$ price8   \u001b[3m\u001b[90m<dbl>\u001b[39m\u001b[23m 0.04140625, 0.02796875, 0.04140625, 0.04140625, 0.04140625, 0…\n$ price9   \u001b[3m\u001b[90m<dbl>\u001b[39m\u001b[23m 0.02890625, 0.04296875, 0.04812500, 0.04234375, 0.04234375, 0…\n$ price10  \u001b[3m\u001b[90m<dbl>\u001b[39m\u001b[23m 0.02484375, 0.04203125, 0.03265625, 0.03265625, 0.03265625, 0…\n$ price11  \u001b[3m\u001b[90m<dbl>\u001b[39m\u001b[23m 0.03898438, 0.03898438, 0.03898438, 0.03898438, 0.03820312, 0…\n$ deal     \u001b[3m\u001b[90m<dbl>\u001b[39m\u001b[23m 1, 0, 0, 0, 0, 0, 1, 1, 1, 1, 1, 1, 0, 1, 0, 1, 1, 0, 0, 0, 1…\n$ feat     \u001b[3m\u001b[90m<dbl>\u001b[39m\u001b[23m 0, 0, 0, 0, 0, 0, 0, 0, 0, 0, 0, 0, 0, 0, 0, 0, 0, 0, 0, 0, 0…\n$ profit   \u001b[3m\u001b[90m<dbl>\u001b[39m\u001b[23m 37.99233, 30.12667, 30.00000, 29.95000, 29.92000, 29.92000, 2…\n"
        }
      ],
      "execution_count": 7,
      "metadata": {
        "jupyter": {
          "source_hidden": false,
          "outputs_hidden": false
        },
        "nteract": {
          "transient": {
            "deleting": false
          }
        },
        "gather": {
          "logged": 1670940851422
        }
      }
    },
    {
      "cell_type": "code",
      "source": [
        "# Constants (were previously defined in a YAML file in the \n",
        "# reference example, and ideally can be parametrized\n",
        "\n",
        "START_DATE <- as.Date(\"1989-09-14\")  \n",
        "\n",
        "## Data prep\n",
        "\n",
        "oj_sales <- oj_sales_read |> \n",
        "  # complete the missing combinations\n",
        "  tidyr::complete(store, brand, week) |> \n",
        "  # create the actual week based on start date and # of weeks passed\n",
        "  mutate(yr_wk = tsibble::yearweek(START_DATE + week * 7)) |> \n",
        "  select(-week) |> \n",
        "  # convert to tsibble\n",
        "  as_tsibble(index = yr_wk, key = c(store, brand))\n",
        "\n",
        "# All stores have the same start week (1990 W25) and end week (1992 W41).\n",
        "# For training, use 100 weeks (1992 W18)\n",
        "\n",
        "# The model function in fabletools can fit multiple models \n",
        "# out of the box\n",
        "\n",
        "fit <- oj_sales |> \n",
        "  filter(yr_wk <= yearweek(\"1992 W18\")) |> \n",
        "  model(\n",
        "    mean = MEAN(logmove),\n",
        "    naive = NAIVE(logmove),\n",
        "    drift = RW(logmove ~ drift()),\n",
        "    arima = ARIMA(logmove ~ pdq() + PDQ(0, 0, 0))\n",
        ")\n",
        "\n",
        "# Forecast out 10 weeks\n",
        "fcast <- forecast(fit, h = 10)\n",
        "\n",
        "# Evaluate the metrics for each model (one set of metrics\n",
        "# per modeltype/store/brand)\n",
        "metrics <- accuracy(fcast, oj_sales)\n",
        "\n"
      ],
      "outputs": [
        {
          "output_type": "stream",
          "name": "stderr",
          "text": "Warning message in sqrt(diag(best$var.coef)):\n“NaNs produced”\nWarning message in sqrt(diag(best$var.coef)):\n“NaNs produced”\n"
        }
      ],
      "execution_count": 8,
      "metadata": {
        "jupyter": {
          "source_hidden": false,
          "outputs_hidden": false
        },
        "nteract": {
          "transient": {
            "deleting": false
          }
        },
        "gather": {
          "logged": 1670941186444
        }
      }
    },
    {
      "cell_type": "markdown",
      "source": [
        "This dataset includes multiple time series identified by the combination of store and brand. Since the `fable` package can create multiple time series models, we subset all the artifacts for a single combination of store and brand."
      ],
      "metadata": {
        "nteract": {
          "transient": {
            "deleting": false
          }
        }
      }
    },
    {
      "cell_type": "code",
      "source": [
        "sg_data <- oj_sales |> filter(store == 2, brand == 1)\n",
        "sg_model <- fit |> filter(store == 2, brand == 1)\n",
        "sg_fcast <- fcast |> filter(store == 2, brand == 1)\n",
        "sg_metrics <- metrics |> filter(store == 2, brand == 1)"
      ],
      "outputs": [],
      "execution_count": 9,
      "metadata": {
        "jupyter": {
          "source_hidden": false,
          "outputs_hidden": false
        },
        "nteract": {
          "transient": {
            "deleting": false
          }
        },
        "gather": {
          "logged": 1670941193925
        }
      }
    },
    {
      "cell_type": "code",
      "source": [
        "sg_fcast |> \n",
        "  autoplot(sg_data, level = NULL)"
      ],
      "outputs": [
        {
          "output_type": "display_data",
          "data": {
            "text/plain": "plot without title",
            "image/png": "[encoded data removed]"
          },
          "metadata": {
            "image/png": {
              "width": 420,
              "height": 420
            }
          }
        }
      ],
      "execution_count": 10,
      "metadata": {
        "jupyter": {
          "source_hidden": false,
          "outputs_hidden": false
        },
        "nteract": {
          "transient": {
            "deleting": false
          }
        },
        "gather": {
          "logged": 1670941197337
        }
      }
    },
    {
      "cell_type": "code",
      "source": [
        "if (!dir.exists(\"outputs\")){\n",
        "  dir.create(\"outputs\")\n",
        "}\n"
      ],
      "outputs": [],
      "execution_count": 12,
      "metadata": {
        "jupyter": {
          "source_hidden": false,
          "outputs_hidden": false
        },
        "nteract": {
          "transient": {
            "deleting": false
          }
        },
        "gather": {
          "logged": 1670942933820
        }
      }
    },
    {
      "cell_type": "code",
      "source": [
        "forecast_plot <- \n",
        "  autoplot(sg_fcast) +\n",
        "  geom_line(data = sg_data |> \n",
        "              filter(yr_wk <= yearweek(\"1992 W18\")),\n",
        "            aes(x = yr_wk, y = logmove)) \n",
        "\n",
        "ggsave(forecast_plot, \n",
        "       filename = \"./outputs/forecast-plot.png\", \n",
        "       units = \"px\",\n",
        "       dpi = 100,\n",
        "       width = 800,\n",
        "       height = 600)\n"
      ],
      "outputs": [],
      "execution_count": 14,
      "metadata": {
        "jupyter": {
          "source_hidden": false,
          "outputs_hidden": false
        },
        "nteract": {
          "transient": {
            "deleting": false
          }
        },
        "gather": {
          "logged": 1670943009356
        }
      }
    },
    {
      "cell_type": "code",
      "source": [
        "sg_model"
      ],
      "outputs": [
        {
          "output_type": "display_data",
          "data": {
            "text/html": "<table class=\"dataframe\">\n<caption>A mdl_df: 1 × 6</caption>\n<thead>\n\t<tr><th scope=col>store</th><th scope=col>brand</th><th scope=col>mean</th><th scope=col>naive</th><th scope=col>drift</th><th scope=col>arima</th></tr>\n\t<tr><th scope=col>&lt;dbl&gt;</th><th scope=col>&lt;dbl&gt;</th><th scope=col>&lt;model&gt;</th><th scope=col>&lt;model&gt;</th><th scope=col>&lt;model&gt;</th><th scope=col>&lt;model&gt;</th></tr>\n</thead>\n<tbody>\n\t<tr><td>2</td><td>1</td><td>&lt;MEAN&gt;</td><td>&lt;NAIVE&gt;</td><td>&lt;RW w/ drift&gt;</td><td>&lt;ARIMA(2,1,0)&gt;</td></tr>\n</tbody>\n</table>\n",
            "text/markdown": "\nA mdl_df: 1 × 6\n\n| store &lt;dbl&gt; | brand &lt;dbl&gt; | mean &lt;model&gt; | naive &lt;model&gt; | drift &lt;model&gt; | arima &lt;model&gt; |\n|---|---|---|---|---|---|\n| 2 | 1 | &lt;MEAN&gt; | &lt;NAIVE&gt; | &lt;RW w/ drift&gt; | &lt;ARIMA(2,1,0)&gt; |\n\n",
            "text/latex": "A mdl\\_df: 1 × 6\n\\begin{tabular}{llllll}\n store & brand & mean & naive & drift & arima\\\\\n <dbl> & <dbl> & <model> & <model> & <model> & <model>\\\\\n\\hline\n\t 2 & 1 & <MEAN> & <NAIVE> & <RW w/ drift> & <ARIMA(2,1,0)>\\\\\n\\end{tabular}\n",
            "text/plain": "  store brand mean   naive   drift         arima         \n1 2     1     <MEAN> <NAIVE> <RW w/ drift> <ARIMA(2,1,0)>"
          },
          "metadata": {}
        }
      ],
      "execution_count": 15,
      "metadata": {
        "jupyter": {
          "source_hidden": false,
          "outputs_hidden": false
        },
        "nteract": {
          "transient": {
            "deleting": false
          }
        },
        "gather": {
          "logged": 1670943140850
        }
      }
    },
    {
      "cell_type": "code",
      "source": [
        "a <- sg_model |>\n",
        "    pull(arima)"
      ],
      "outputs": [],
      "execution_count": 20,
      "metadata": {
        "jupyter": {
          "source_hidden": false,
          "outputs_hidden": false
        },
        "nteract": {
          "transient": {
            "deleting": false
          }
        },
        "gather": {
          "logged": 1670943288680
        }
      }
    },
    {
      "cell_type": "code",
      "source": [
        "class(a[[1]])"
      ],
      "outputs": [
        {
          "output_type": "display_data",
          "data": {
            "text/html": "'mdl_ts'",
            "text/markdown": "'mdl_ts'",
            "text/latex": "'mdl\\_ts'",
            "text/plain": "[1] \"mdl_ts\""
          },
          "metadata": {}
        }
      ],
      "execution_count": 24,
      "metadata": {
        "jupyter": {
          "source_hidden": false,
          "outputs_hidden": false
        },
        "nteract": {
          "transient": {
            "deleting": false
          }
        },
        "gather": {
          "logged": 1670945005958
        }
      }
    },
    {
      "cell_type": "markdown",
      "source": [
        "Save objects"
      ],
      "metadata": {
        "nteract": {
          "transient": {
            "deleting": false
          }
        }
      }
    },
    {
      "cell_type": "code",
      "source": [],
      "outputs": [
        {
          "output_type": "error",
          "ename": "ERROR",
          "evalue": "\u001b[1m\u001b[33mError\u001b[39m in `dont_know()`:\u001b[22m\n\u001b[33m!\u001b[39m `as_tsibble()` doesn't know how to handle the numeric class yet.\n",
          "traceback": [
            "\u001b[1m\u001b[33mError\u001b[39m in `dont_know()`:\u001b[22m\n\u001b[33m!\u001b[39m `as_tsibble()` doesn't know how to handle the numeric class yet.\nTraceback:\n",
            "1. fabletools::forecast(a[[1]], tsibble::as_tsibble(10))",
            "2. forecast.mdl_ts(a[[1]], tsibble::as_tsibble(10))",
            "3. tsibble::as_tsibble(10)",
            "4. as_tsibble.default(10)",
            "5. dont_know(x, \"as_tsibble\")",
            "6. abort(msg)",
            "7. signal_abort(cnd, .file)"
          ]
        }
      ],
      "execution_count": 26,
      "metadata": {
        "jupyter": {
          "source_hidden": false,
          "outputs_hidden": false
        },
        "nteract": {
          "transient": {
            "deleting": false
          }
        },
        "gather": {
          "logged": 1670945040305
        }
      }
    },
    {
      "cell_type": "code",
      "source": [],
      "outputs": [],
      "execution_count": null,
      "metadata": {
        "jupyter": {
          "source_hidden": false,
          "outputs_hidden": false
        },
        "nteract": {
          "transient": {
            "deleting": false
          }
        }
      }
    }
  ],
  "metadata": {
    "kernelspec": {
      "name": "ir",
      "language": "R",
      "display_name": "R"
    },
    "language_info": {
      "name": "R",
      "codemirror_mode": "r",
      "pygments_lexer": "r",
      "mimetype": "text/x-r-source",
      "file_extension": ".r",
      "version": "4.2.2"
    },
    "kernel_info": {
      "name": "ir"
    },
    "nteract": {
      "version": "nteract-front-end@1.0.0"
    },
    "microsoft": {
      "host": {
        "AzureML": {
          "notebookHasBeenCompleted": true
        }
      }
    }
  },
  "nbformat": 4,
  "nbformat_minor": 2
}