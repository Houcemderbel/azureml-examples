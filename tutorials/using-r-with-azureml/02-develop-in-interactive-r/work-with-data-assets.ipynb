{
  "cells": [
    {
      "cell_type": "markdown",
      "metadata": {
        "nteract": {
          "transient": {
            "deleting": false
          }
        }
      },
      "source": [
        "# Work with data assets in R\n",
        "\n",
        "This notebook shows how to read and write data assets into your Machine Learning workspace from R.  \n",
        "\n",
        "## Prerequisites\n",
        "\n",
        "To use this notebook, you'll need to set up a few things.\n",
        "\n",
        "1.  Make sure the **R** kernel is selected in the top right of the notebook toolbar.\n",
        "2.  In your compute instance toolbar, install `azureml-fsspec` into the `azureml_py310_sdkv2` kernel:\n",
        "\n",
        "    ```\n",
        "    conda activate azureml_py310_sdkv2\n",
        "    pip install azureml-fsspec\n",
        "    conda deactivate\n",
        "    ```"
      ]
    },
    {
      "cell_type": "code",
      "execution_count": null,
      "metadata": {
        "gather": {
          "logged": 1672163549650
        },
        "jupyter": {
          "outputs_hidden": false,
          "source_hidden": false
        },
        "nteract": {
          "transient": {
            "deleting": false
          }
        }
      },
      "outputs": [],
      "source": [
        "# Check version of reticulate.  If not at least 1.26, use a newer compute instance.\n",
        "packageVersion('reticulate')"
      ]
    },
    {
      "cell_type": "markdown",
      "metadata": {
        "nteract": {
          "transient": {
            "deleting": false
          }
        }
      },
      "source": [
        "## Load reticulate and set condaenv\n",
        "\n",
        "This R script will use the `reticulate` package, which runs Python code from within R.  \n",
        "\n",
        "First, load the package and set the conda environment to be used for the Python code:"
      ]
    },
    {
      "cell_type": "code",
      "execution_count": null,
      "metadata": {
        "gather": {
          "logged": 1672163552791
        },
        "jupyter": {
          "outputs_hidden": false,
          "source_hidden": false
        },
        "name": "reticulate",
        "nteract": {
          "transient": {
            "deleting": false
          }
        }
      },
      "outputs": [],
      "source": [
        "library(reticulate)\n",
        "use_condaenv(\"azureml_py310_sdkv2\")\n",
        "print(\"Environment is set\")"
      ]
    },
    {
      "cell_type": "markdown",
      "metadata": {
        "nteract": {
          "transient": {
            "deleting": false
          }
        }
      },
      "source": [
        "## Establish connection with workspace\n",
        "This next bit of code in Python will configure the connection to your workspace.  "
      ]
    },
    {
      "cell_type": "code",
      "execution_count": null,
      "metadata": {
        "gather": {
          "logged": 1672163557940
        },
        "jupyter": {
          "outputs_hidden": false,
          "source_hidden": false
        },
        "name": "configure-ml_client",
        "nteract": {
          "transient": {
            "deleting": false
          }
        }
      },
      "outputs": [],
      "source": [
        "py_code <- \"from azure.identity import DefaultAzureCredential\n",
        "from azure.ai.ml import MLClient\n",
        "credential = DefaultAzureCredential()\n",
        "ml_client = MLClient.from_config(credential=credential)\"\n",
        "\n",
        "py_run_string(py_code)\n",
        "print(\"ml_client is configured\")"
      ]
    },
    {
      "cell_type": "markdown",
      "metadata": {
        "nteract": {
          "transient": {
            "deleting": false
          }
        }
      },
      "source": [
        "## Create a data asset\n",
        "\n",
        "This code shows creating a data asset from an online blob storage.  You can als use local baths, ADLS gen2, or datastore paths.  For more details, see [Create data assets](https://learn.microsoft.com/azure/machine-learning/how-to-create-data-assets?tabs=cli#create-a-uri_file-data-asset)."
      ]
    },
    {
      "cell_type": "code",
      "execution_count": null,
      "metadata": {
        "gather": {
          "logged": 1672163594306
        }
      },
      "outputs": [],
      "source": [
        "# Creata a data asset from online path\n",
        "py_code <- \"from azure.ai.ml.entities import Data\n",
        "from azure.ai.ml.constants import AssetTypes\n",
        "\n",
        "my_path = 'https://azuremlexamples.blob.core.windows.net/datasets/credit_card/default_of_credit_card_clients.csv'\n",
        "my_name = 'credit-card'\n",
        "my_description = 'credit card data'\n",
        "\n",
        "my_data = Data(\n",
        "    path=my_path,\n",
        "    type=AssetTypes.URI_FILE,\n",
        "    description=my_description,\n",
        "    name=my_name\n",
        ")\n",
        "\n",
        "ml_client.data.create_or_update(my_data)\"\n",
        "\n",
        "py_run_string(py_code)\n",
        "print(paste(\"Created data asset:\", py$my_name ))"
      ]
    },
    {
      "attachments": {},
      "cell_type": "markdown",
      "metadata": {
        "nteract": {
          "transient": {
            "deleting": false
          }
        }
      },
      "source": [
        "# Retrieve a data asset\n",
        "\n",
        "You can retrieve any data asset in your workspace.  All you need is the name and version number of the asset.  "
      ]
    },
    {
      "cell_type": "code",
      "execution_count": null,
      "metadata": {
        "name": "get-uri"
      },
      "outputs": [],
      "source": [
        "# Replace <MY_NAME> and <MY_VERSION> with your values\n",
        "py_code <- \"my_name = '<MY_NAME>'\n",
        "my_version = '<MY_VERSION>'\n",
        "data_asset = ml_client.data.get(name=my_name, version=my_version)\n",
        "data_uri = data_asset.path\""
      ]
    },
    {
      "attachments": {},
      "cell_type": "markdown",
      "metadata": {},
      "source": [
        "For example, use this code to retrieve the data asset you created above:  "
      ]
    },
    {
      "cell_type": "code",
      "execution_count": null,
      "metadata": {
        "gather": {
          "logged": 1672163604473
        },
        "jupyter": {
          "outputs_hidden": false,
          "source_hidden": false
        },
        "nteract": {
          "transient": {
            "deleting": false
          }
        }
      },
      "outputs": [],
      "source": [
        "py_code <- \"my_name = 'credit-card'\n",
        "my_version = '1'\n",
        "data_asset = ml_client.data.get(name=my_name, version=my_version)\n",
        "data_uri = data_asset.path\""
      ]
    },
    {
      "attachments": {},
      "cell_type": "markdown",
      "metadata": {},
      "source": [
        "Now run the code and print the URI"
      ]
    },
    {
      "cell_type": "code",
      "execution_count": null,
      "metadata": {
        "name": "py_run_string"
      },
      "outputs": [],
      "source": [
        "py_run_string(py_code)\n",
        "print(paste(\"URI path is\", py$data_uri))"
      ]
    },
    {
      "cell_type": "markdown",
      "metadata": {
        "nteract": {
          "transient": {
            "deleting": false
          }
        }
      },
      "source": [
        "Use the URI path to read your data asset into R:"
      ]
    },
    {
      "cell_type": "code",
      "execution_count": null,
      "metadata": {
        "gather": {
          "logged": 1672163609440
        },
        "jupyter": {
          "outputs_hidden": false,
          "source_hidden": false
        },
        "name": "read-uri",
        "nteract": {
          "transient": {
            "deleting": false
          }
        }
      },
      "outputs": [],
      "source": [
        "pd <- import(\"pandas\")\n",
        "cc <- pd$read_csv(py$data_uri)\n",
        "head(cc)"
      ]
    }
  ],
  "metadata": {
    "kernel_info": {
      "name": "ir"
    },
    "kernelspec": {
      "display_name": "Python 3",
      "language": "python",
      "name": "python3"
    },
    "language_info": {
      "codemirror_mode": "r",
      "file_extension": ".r",
      "mimetype": "text/x-r-source",
      "name": "python",
      "pygments_lexer": "r",
      "version": "3.10.6 (tags/v3.10.6:9c7b4bd, Aug  1 2022, 21:53:49) [MSC v.1932 64 bit (AMD64)]"
    },
    "microsoft": {
      "host": {
        "AzureML": {
          "notebookHasBeenCompleted": true
        }
      }
    },
    "nteract": {
      "version": "nteract-front-end@1.0.0"
    },
    "vscode": {
      "interpreter": {
        "hash": "52018653a280796ddf8e50b3c9e20a616cd949148570d3142cd79b620301346b"
      }
    }
  },
  "nbformat": 4,
  "nbformat_minor": 2
}
