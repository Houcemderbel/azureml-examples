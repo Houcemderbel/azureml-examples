{
 "cells": [
  {
   "attachments": {},
   "cell_type": "markdown",
   "metadata": {},
   "source": [
    "# Use network isolation with managed online endpoints\n",
    "\n",
    "Learn how to secure communication with online endpoints by using private endpoints. This script follows the [Use network isolation with managed online endpoints](https://learn.microsoft.com/en-us/azure/machine-learning/how-to-secure-online-endpoint) document. "
   ]
  },
  {
   "cell_type": "markdown",
   "metadata": {},
   "source": [
    "The following prerequisites are needed for this example: \n",
    "\n",
    "Install them using the following code:"
   ]
  },
  {
   "cell_type": "code",
   "execution_count": null,
   "metadata": {},
   "outputs": [],
   "source": [
    "%pip install azure-mgmt-resource\n",
    "%pip install azure-mgmt-compute\n",
    "%pip install azure-mgmt-containerregistry\n",
    "%pip install azure-mgmt-network"
   ]
  },
  {
   "attachments": {},
   "cell_type": "markdown",
   "metadata": {},
   "source": [
    "## 1. Connect to Azure Machine Learning"
   ]
  },
  {
   "attachments": {},
   "cell_type": "markdown",
   "metadata": {},
   "source": [
    "### 1.1 Import Required Libraries"
   ]
  },
  {
   "cell_type": "code",
   "execution_count": null,
   "metadata": {},
   "outputs": [],
   "source": [
    "from azure.ai.ml import MLClient\n",
    "from azure.ai.ml.entities import (\n",
    "    ManagedOnlineEndpoint,\n",
    "    ManagedOnlineDeployment,\n",
    "    Model,\n",
    "    Environment,\n",
    "    CodeConfiguration,\n",
    ")\n",
    "from azure.mgmt.resource import ResourceManagementClient, DeploymentScriptsClient\n",
    "from azure.mgmt.resource.templatespecs import TemplateSpecsClient\n",
    "from azure.mgmt.resource.templatespecs.models import TemplateSpec\n",
    "from azure.mgmt.resource.resources.v2021_04_01 import models as resource_models\n",
    "from azure.mgmt.resource.templatespecs.v2022_02_01.models import TemplateSpec\n",
    "from azure.mgmt.network import NetworkManagementClient\n",
    "from azure.mgmt.compute import ComputeManagementClient\n",
    "from azure.mgmt.compute.v2022_08_01.models import (\n",
    "    VirtualMachineRunCommand,\n",
    "    VirtualMachine,\n",
    "    VirtualMachineRunCommandScriptSource,\n",
    "    RunCommandInputParameter,\n",
    ")\n",
    "from azure.identity import DefaultAzureCredential, ManagedIdentityCredential\n",
    "import os, json, random\n",
    "from pathlib import Path"
   ]
  },
  {
   "attachments": {},
   "cell_type": "markdown",
   "metadata": {},
   "source": [
    "### 1.2 Set variables"
   ]
  },
  {
   "cell_type": "code",
   "execution_count": null,
   "metadata": {},
   "outputs": [],
   "source": [
    "# subscription = \"<SUBSCRIPTION_ID>\"\n",
    "# resource_group = \"<RESOURCE_GROUP>\"\n",
    "# location = \"<LOCATION>\"\n",
    "\n",
    "subscription = \"6fe1c377-b645-4e8e-b588-52e57cc856b2\"\n",
    "resource_group = \"role-creation-sample\"\n",
    "location = \"eastus\"\n",
    "\n",
    "\n",
    "_rand = random.randint(0, 10000)\n",
    "_rand = 3886\n",
    "\n",
    "suffix = f\"vnet{_rand}\"\n",
    "acr_name = f\"cr{suffix}\"\n",
    "workspace = f\"mlw-{suffix}\"\n",
    "identity_name = f\"uai{suffix}\"\n",
    "\n",
    "vm_name = f\"moevnet-vm{suffix}\"\n",
    "vnet_name = f\"vnet-{suffix}\"\n",
    "subnet_name = \"snet-scoring\"\n",
    "\n",
    "endpoint_name = f\"endpt-vnet-{_rand}\"\n",
    "##TODO: Edit\n",
    "git_branch = os.getenv(\"GITHUB_HEAD_REF\", \"alwallace/networkisolation3\")"
   ]
  },
  {
   "attachments": {},
   "cell_type": "markdown",
   "metadata": {},
   "source": [
    "### 1.3 Get clients\n",
    "\n",
    "To create the secured resources needed for a network-isolated Managed Online Endpoint including the VM Jump Box, we will need a Resource Management Client and a Template Specs client. Once the resources are created, we will use a ComputeManagementClient to connect to the VM Jump Box and issue commands to the workspace."
   ]
  },
  {
   "cell_type": "code",
   "execution_count": null,
   "metadata": {},
   "outputs": [],
   "source": [
    "credential = DefaultAzureCredential()\n",
    "\n",
    "resource_client = ResourceManagementClient(credential, subscription)\n",
    "\n",
    "compute_client = ComputeManagementClient(credential, subscription)\n",
    "\n",
    "ts_client = TemplateSpecsClient(credential, subscription)"
   ]
  },
  {
   "cell_type": "code",
   "execution_count": null,
   "metadata": {},
   "outputs": [],
   "source": [
    "resource_client.resource_groups.get(resource_group_name=resource_group)"
   ]
  },
  {
   "attachments": {},
   "cell_type": "markdown",
   "metadata": {},
   "source": [
    "## 2. Create the workspace and secured resources"
   ]
  },
  {
   "attachments": {},
   "cell_type": "markdown",
   "metadata": {},
   "source": [
    "To create the workspace and associated resources, we will use the ARM templates located in [vnet/setup_vm](vnet/setup_vm) and [vnet/setup_ws](vnet/setup_ws). These ARM templates were created by decompiling the Bicep files used in the Network Isolation CLI example directory [cli/endpoints/online/managed/vnet](../../../../../cli/endpoints/online/managed/vnet/setup_ws).\n",
    "\n",
    "The Bicep decompilation tool is distributed as binary executable and can be installed as an Azure CLI extension or a standalone tool. For more information, see the document [Install Bicep Tools](https://learn.microsoft.com/en-us/azure/azure-resource-manager/bicep/install)."
   ]
  },
  {
   "attachments": {},
   "cell_type": "markdown",
   "metadata": {},
   "source": [
    "### 2.1 Create identity\n",
    "\n",
    "To create the UAI identity we use the Resource Client to deploy the [uai.json](vnet/setup_ws/uai.json) ARM template by passing it as the `template` property with parameters passed in under the `parameters` property."
   ]
  },
  {
   "cell_type": "code",
   "execution_count": null,
   "metadata": {},
   "outputs": [],
   "source": [
    "deployment = resource_client.deployments.begin_create_or_update(\n",
    "    resource_group_name=resource_group,\n",
    "    deployment_name=f\"{suffix}-uai\",\n",
    "    parameters={\n",
    "        \"properties\": {\n",
    "            \"mode\": \"Incremental\",\n",
    "            \"template\": json.loads(Path(\"vnet/setup_ws/uai.json\").read_text()),\n",
    "            \"parameters\": {\n",
    "                \"suffix\": {\"value\": f\"{suffix}\"},\n",
    "            },\n",
    "            \"location\": {\"value\": f\"{location}\"},\n",
    "        }\n",
    "    },\n",
    ").result()"
   ]
  },
  {
   "attachments": {},
   "cell_type": "markdown",
   "metadata": {},
   "source": [
    "### 2.2 Create workspace\n",
    "\n",
    "The ARM template to create the workspace consists of a main tmplate in [vnet/setup_ws/main.json](vnet/setup_ws/main-linked.json) which refers to other templates in the [modules](vnet/setup_ws/modules) directory. To deploy these linked templates, a Template Spec is first created which contains each of the linked modules"
   ]
  },
  {
   "attachments": {},
   "cell_type": "markdown",
   "metadata": {},
   "source": [
    "### 2.2.1 Create a Template Spec\n",
    "A Template Spec with the name \"networkiso\" is created."
   ]
  },
  {
   "cell_type": "code",
   "execution_count": null,
   "metadata": {},
   "outputs": [],
   "source": [
    "tempspec_root = Path(\"vnet/setup_ws\")\n",
    "\n",
    "tempspec = ts_client.template_specs.create_or_update(\n",
    "    template_spec_name=\"networkiso\",\n",
    "    resource_group_name=resource_group,\n",
    "    template_spec={\"location\": location},\n",
    ")"
   ]
  },
  {
   "attachments": {},
   "cell_type": "markdown",
   "metadata": {},
   "source": [
    "### 2.2.2 Create a Template Spec Version\n",
    "A Template Spec Version is created which contains the main and linked templates. Each linked template contains an arbitrary `path` value which is independent of its actual location on disk, and should correspond to the `relativePath` values specified in the main template. The `main-linked.json` file expects relative paths of the form `modules/*.json`, so this path is provided for each linked template. \n",
    "\n",
    "Once the Template Spec Version is created, you can view it in the Portal."
   ]
  },
  {
   "cell_type": "code",
   "execution_count": null,
   "metadata": {},
   "outputs": [],
   "source": [
    "tempspec = ts_client.template_spec_versions.create_or_update(\n",
    "    template_spec_name=\"networkiso\",\n",
    "    template_spec_version=str(_rand),\n",
    "    resource_group_name=resource_group,\n",
    "    template_spec_version_model={\n",
    "        \"location\": location,\n",
    "        \"linked_templates\": [\n",
    "            {\n",
    "                \"template\": json.loads(f.read_text()),\n",
    "                \"path\": str(f.relative_to(tempspec_root)),\n",
    "            }\n",
    "            for f in (tempspec_root / \"modules\").iterdir()\n",
    "        ],\n",
    "        \"main_template\": json.loads((tempspec_root / \"main-linked.json\").read_text()),\n",
    "    },\n",
    ")"
   ]
  },
  {
   "attachments": {},
   "cell_type": "markdown",
   "metadata": {},
   "source": [
    "### 2.2.3 Deploy the Template Spec Version\n",
    "\n",
    "Deploying the Template Spec Version creates the resources specified in the template."
   ]
  },
  {
   "cell_type": "code",
   "execution_count": null,
   "metadata": {},
   "outputs": [],
   "source": [
    "deployment = resource_client.deployments.begin_create_or_update(\n",
    "    resource_group_name=resource_group,\n",
    "    deployment_name=suffix,\n",
    "    parameters={\n",
    "        \"properties\": {\n",
    "            \"mode\": \"Incremental\",\n",
    "            \"template_link\": {\"id\": tempspec.id},\n",
    "            \"parameters\": {\"suffix\": {\"value\": suffix}},\n",
    "        }\n",
    "    },\n",
    ").result()"
   ]
  },
  {
   "attachments": {},
   "cell_type": "markdown",
   "metadata": {},
   "source": [
    "## 3. Create the Virtual Machine Jump Box\n",
    "\n",
    "A Virtual Machine Jump Box is to interact with the Network Isolated Machine Learning Workspace. \n",
    "\n",
    "To deploy the Virtual Machine Jump box, we will use a non-linked ARM template which can be passed directly to the Resource Client without first creating a Template Spec."
   ]
  },
  {
   "cell_type": "code",
   "execution_count": null,
   "metadata": {},
   "outputs": [],
   "source": [
    "deployment = resource_client.deployments.begin_create_or_update(\n",
    "    resource_group_name=resource_group,\n",
    "    deployment_name=f\"{vm_name}-{endpoint_name}\",\n",
    "    parameters={\n",
    "        \"properties\": {\n",
    "            \"mode\": \"Incremental\",\n",
    "            \"template\": json.loads(Path(\"vnet/setup_vm/vm-main.json\").read_text()),\n",
    "            \"parameters\": {\n",
    "                \"vmName\": {\"value\": vm_name},\n",
    "                \"vnetName\": {\"value\": vnet_name},\n",
    "                \"identityName\": {\"value\": identity_name},\n",
    "                \"subnetName\": {\"value\": subnet_name},\n",
    "            },\n",
    "        }\n",
    "    },\n",
    ").result()"
   ]
  },
  {
   "attachments": {},
   "cell_type": "markdown",
   "metadata": {},
   "source": [
    "## 4. Configure the VM\n",
    "The following scripts use the `RunShellScript` VM command to run shell and Python scripts that setup the VM, create a Managed Online Endpoint, and score it. \n",
    "\n",
    "Alternatively, these scripts can also be run over SSH."
   ]
  },
  {
   "attachments": {},
   "cell_type": "markdown",
   "metadata": {},
   "source": [
    "### 4.1 Execute the setup script\n",
    "\n",
    "The following `RunCommand` executes the setup script [vmsetup.sh](vnet/setup_vm/modules/scripts/vmsetup.sh) on the VM Jump Box. This script bootstraps the environment on the VM by setting up Python and required packages and cloning the environemnt."
   ]
  },
  {
   "cell_type": "code",
   "execution_count": 74,
   "metadata": {},
   "outputs": [],
   "source": [
    "command = compute_client.virtual_machines.begin_run_command(\n",
    "    resource_group_name=resource_group,\n",
    "    vm_name=vm_name,\n",
    "    parameters={\n",
    "        \"script\": [Path(\"vnet/setup_vm/scripts/vmsetup.sh\").read_text()],\n",
    "        \"command_id\": \"RunShellScript\",\n",
    "        \"parameters\": [\n",
    "            {\"name\": \"GIT_BRANCH\", \"value\": git_branch},\n",
    "        ],\n",
    "    },\n",
    ").result()"
   ]
  },
  {
   "cell_type": "code",
   "execution_count": 75,
   "metadata": {},
   "outputs": [
    {
     "data": {
      "text/plain": [
       "{'value': [{'code': 'ProvisioningState/succeeded',\n",
       "   'level': 'Info',\n",
       "   'display_status': 'Provisioning succeeded',\n",
       "   'message': \"Enable succeeded: \\n[stdout]\\n (42 kB)\\nCollecting requests-oauthlib>=0.5.0\\n  Using cached requests_oauthlib-1.3.1-py2.py3-none-any.whl (23 kB)\\nRequirement already satisfied: certifi>=2017.4.17 in /opt/anaconda/envs/vnet/lib/python3.10/site-packages (from msrest>=0.6.18->azure-ai-ml) (2022.12.7)\\nCollecting opencensus<1.0.0,>=0.11.1\\n  Using cached opencensus-0.11.1-py2.py3-none-any.whl (128 kB)\\nCollecting azure-identity<2.0.0,>=1.5.0\\n  Using cached azure_identity-1.12.0-py3-none-any.whl (135 kB)\\nCollecting psutil>=5.6.3\\n  Using cached psutil-5.9.4-cp36-abi3-manylinux_2_12_x86_64.manylinux2010_x86_64.manylinux_2_17_x86_64.manylinux2014_x86_64.whl (280 kB)\\nCollecting python-dateutil>=2.6.0\\n  Using cached python_dateutil-2.8.2-py2.py3-none-any.whl (247 kB)\\nCollecting msal-extensions<2.0.0,>=0.3.0\\n  Using cached msal_extensions-1.0.0-py2.py3-none-any.whl (19 kB)\\nCollecting msal<2.0.0,>=1.12.0\\n  Using cached msal-1.20.0-py2.py3-none-any.whl (90 kB)\\nCollecting pycparser\\n  Using cached pycparser-2.21-py2.py3-none-any.whl (118 kB)\\nCollecting opencensus-context>=0.1.3\\n  Using cached opencensus_context-0.1.3-py2.py3-none-any.whl (5.1 kB)\\nCollecting google-api-core<3.0.0,>=1.0.0\\n  Using cached google_api_core-2.11.0-py3-none-any.whl (120 kB)\\nCollecting urllib3<1.27,>=1.21.1\\n  Using cached urllib3-1.26.14-py2.py3-none-any.whl (140 kB)\\nCollecting charset-normalizer<4,>=2\\n  Using cached charset_normalizer-3.0.1-cp310-cp310-manylinux_2_17_x86_64.manylinux2014_x86_64.whl (198 kB)\\nCollecting idna<4,>=2.5\\n  Using cached idna-3.4-py3-none-any.whl (61 kB)\\nCollecting oauthlib>=3.0.0\\n  Using cached oauthlib-3.2.2-py3-none-any.whl (151 kB)\\nCollecting protobuf!=3.20.0,!=3.20.1,!=4.21.0,!=4.21.1,!=4.21.2,!=4.21.3,!=4.21.4,!=4.21.5,<5.0.0dev,>=3.19.5\\n  Using cached protobuf-4.21.12-cp37-abi3-manylinux2014_x86_64.whl (409 kB)\\nCollecting google-auth<3.0dev,>=2.14.1\\n  Using cached google_auth-2.16.0-py2.py3-none-any.whl (177 kB)\\nCollecting googleapis-common-protos<2.0dev,>=1.56.2\\n  Using cached googleapis_common_protos-1.58.0-py2.py3-none-any.whl (223 kB)\\nCollecting portalocker<3,>=1.0\\n  Using cached portalocker-2.7.0-py2.py3-none-any.whl (15 kB)\\nCollecting cachetools<6.0,>=2.0.0\\n  Using cached cachetools-5.2.1-py3-none-any.whl (9.3 kB)\\nCollecting rsa<5,>=3.1.4\\n  Using cached rsa-4.9-py3-none-any.whl (34 kB)\\nCollecting pyasn1-modules>=0.2.1\\n  Using cached pyasn1_modules-0.2.8-py2.py3-none-any.whl (155 kB)\\nCollecting pyasn1<0.5.0,>=0.4.6\\n  Using cached pyasn1-0.4.8-py2.py3-none-any.whl (77 kB)\\nInstalling collected packages: pyasn1, opencensus-context, charset-normalizer, azure-common, urllib3, typing-extensions, tqdm, six, rsa, pyyaml, pyrsistent, pyjwt, pydash, pycparser, pyasn1-modules, psutil, protobuf, portalocker, packaging, oauthlib, idna, colorama, cachetools, attrs, requests, python-dateutil, marshmallow, jsonschema, isodate, googleapis-common-protos, google-auth, cffi, strictyaml, requests-oauthlib, google-api-core, cryptography, azure-core, opencensus, msrest, azure-mgmt-core, msal, azure-storage-file-share, azure-storage-blob, azure-mgmt-containerregistry, msal-extensions, azure-storage-file-datalake, azure-identity, opencensus-ext-azure, azure-ai-ml\\nSuccessfully installed attrs-22.2.0 azure-ai-ml-1.2.0 azure-common-1.1.28 azure-core-1.26.2 azure-identity-1.12.0 azure-mgmt-containerregistry-10.0.0 azure-mgmt-core-1.3.2 azure-storage-blob-12.14.1 azure-storage-file-datalake-12.9.1 azure-storage-file-share-12.10.1 cachetools-5.2.1 cffi-1.15.1 charset-normalizer-3.0.1 colorama-0.4.6 cryptography-39.0.0 google-api-core-2.11.0 google-auth-2.16.0 googleapis-common-protos-1.58.0 idna-3.4 isodate-0.6.1 jsonschema-4.17.3 marshmallow-3.19.0 msal-1.20.0 msal-extensions-1.0.0 msrest-0.7.1 oauthlib-3.2.2 opencensus-0.11.1 opencensus-context-0.1.3 opencensus-ext-azure-1.1.8 packaging-23.0 portalocker-2.7.0 protobuf-4.21.12 psutil-5.9.4 pyasn1-0.4.8 pyasn1-modules-0.2.8 pycparser-2.21 pydash-5.1.2 pyjwt-2.6.0 pyrsistent-0.19.3 python-dateutil-2.8.2 pyyaml-6.0 requests-2.28.2 requests-oauthlib-1.3.1 rsa-4.9 six-1.16.0 strictyaml-1.6.2 tqdm-4.64.1 typing-extensions-4.4.0 urllib3-1.26.14\\n\\n[stderr]\\n6it/s]         \\rExtracting : conda-package-handling-1.9.0-py310h5eee18b_1.conda:  33%|███▎      | 14/43 [00:00<00:01, 15.96it/s]\\rExtracting : conda-package-handling-1.9.0-py310h5eee18b_1.conda:  35%|███▍      | 15/43 [00:00<00:00, 34.68it/s]\\rExtracting : pyopenssl-22.0.0-pyhd3eb1b0_0.conda:  35%|███▍      | 15/43 [00:00<00:00, 34.68it/s]               \\rExtracting : conda-22.11.1-py310h06a4308_4.conda:  37%|███▋      | 16/43 [00:00<00:00, 34.68it/s]\\rExtracting : tk-8.6.12-h1ccaba5_0.conda:  40%|███▉      | 17/43 [00:00<00:00, 34.68it/s]         \\rExtracting : charset-normalizer-2.0.4-pyhd3eb1b0_0.conda:  42%|████▏     | 18/43 [00:00<00:00, 34.68it/s]\\rExtracting : charset-normalizer-2.0.4-pyhd3eb1b0_0.conda:  44%|████▍     | 19/43 [00:00<00:00, 34.58it/s]\\rExtracting : pysocks-1.7.1-py310h06a4308_0.conda:  44%|████▍     | 19/43 [00:00<00:00, 34.58it/s]        \\rExtracting : certifi-2022.12.7-py310h06a4308_0.conda:  47%|████▋     | 20/43 [00:00<00:00, 34.58it/s]\\rExtracting : cryptography-38.0.1-py310h9ce1e76_0.conda:  49%|████▉     | 21/43 [00:00<00:00, 34.58it/s]\\rExtracting : conda-content-trust-0.1.3-py310h06a4308_0.conda:  51%|█████     | 22/43 [00:00<00:00, 34.58it/s]\\rExtracting : zlib-1.2.13-h5eee18b_0.conda:  53%|█████▎    | 23/43 [00:00<00:00, 34.58it/s]                   \\rExtracting : python-3.10.8-h7a1cb2a_1.conda:  56%|█████▌    | 24/43 [00:01<00:00, 34.58it/s]\\rExtracting : python-3.10.8-h7a1cb2a_1.conda:  58%|█████▊    | 25/43 [00:01<00:00, 19.58it/s]\\rExtracting : toolz-0.12.0-py310h06a4308_0.conda:  58%|█████▊    | 25/43 [00:01<00:00, 19.58it/s]\\rExtracting : idna-3.4-py310h06a4308_0.conda:  60%|██████    | 26/43 [00:01<00:00, 19.58it/s]    \\rExtracting : sqlite-3.40.0-h5082296_0.conda:  63%|██████▎   | 27/43 [00:01<00:00, 19.58it/s]\\rExtracting : pycosat-0.6.4-py310h5eee18b_0.conda:  65%|██████▌   | 28/43 [00:01<00:00, 19.58it/s]\\rExtracting : ca-certificates-2022.10.11-h06a4308_0.conda:  67%|██████▋   | 29/43 [00:01<00:00, 19.58it/s]\\rExtracting : pycparser-2.21-pyhd3eb1b0_0.conda:  70%|██████▉   | 30/43 [00:01<00:00, 19.58it/s]          \\rExtracting : ruamel.yaml.clib-0.2.6-py310h5eee18b_1.conda:  72%|███████▏  | 31/43 [00:01<00:00, 19.58it/s]\\rExtracting : bzip2-1.0.8-h7b6447c_0.conda:  74%|███████▍  | 32/43 [00:01<00:00, 19.58it/s]                \\rExtracting : libgomp-11.2.0-h1234567_1.conda:  77%|███████▋  | 33/43 [00:01<00:00, 19.58it/s]\\rExtracting : libgcc-ng-11.2.0-h1234567_1.conda:  79%|███████▉  | 34/43 [00:01<00:00, 19.58it/s]\\rExtracting : cffi-1.15.1-py310h5eee18b_3.conda:  81%|████████▏ | 35/43 [00:01<00:00, 19.58it/s]\\rExtracting : tzdata-2022g-h04d1e81_0.conda:  84%|████████▎ | 36/43 [00:01<00:00, 19.58it/s]    \\rExtracting : readline-8.2-h5eee18b_0.conda:  86%|████████▌ | 37/43 [00:01<00:00, 19.58it/s]\\rExtracting : _openmp_mutex-5.1-1_gnu.conda:  88%|████████▊ | 38/43 [00:01<00:00, 19.58it/s]\\rExtracting : tqdm-4.64.1-py310h06a4308_0.conda:  91%|█████████ | 39/43 [00:01<00:00, 19.58it/s]\\rExtracting : _libgcc_mutex-0.1-main.conda:  93%|█████████▎| 40/43 [00:01<00:00, 19.58it/s]     \\rExtracting : openssl-1.1.1s-h7f8727e_0.conda:  95%|█████████▌| 41/43 [00:01<00:00, 19.58it/s]\\rExtracting : openssl-1.1.1s-h7f8727e_0.conda:  98%|█████████▊| 42/43 [00:01<00:00, 37.05it/s]\\rExtracting : libffi-3.4.2-h6a678d5_6.conda:  98%|█████████▊| 42/43 [00:01<00:00, 37.05it/s]  \\r                                                                                           \\rWARNING: Running pip as the 'root' user can result in broken permissions and conflicting behaviour with the system package manager. It is recommended to use a virtual environment instead: https://pip.pypa.io/warnings/venv\\n\"}]}"
      ]
     },
     "execution_count": 75,
     "metadata": {},
     "output_type": "execute_result"
    }
   ],
   "source": [
    "command.as_dict()"
   ]
  },
  {
   "attachments": {},
   "cell_type": "markdown",
   "metadata": {},
   "source": [
    "### 4.2 Build Image\n",
    "\n",
    "After the initial VM setup, each Python script is executed using the [run_py.sh](vnet/setup_vm/run_py.sh) shell script.\n",
    "\n",
    "The following `RunCommand` executes the [build_image.py](vnet/setup_vm/scripts/build_image.py) Python script on the VM Jump Box."
   ]
  },
  {
   "cell_type": "code",
   "execution_count": null,
   "metadata": {},
   "outputs": [],
   "source": [
    "command = compute_client.virtual_machines.begin_run_command(\n",
    "    resource_group_name=resource_group,\n",
    "    vm_name=vm_name,\n",
    "    parameters={\n",
    "       \"script\": [Path(\"vnet/setup_vm/scripts/run_py.sh\").read_text()],\n",
    "        \"command_id\": \"RunShellScript\",\n",
    "        \"parameters\": [\n",
    "            {\"name\": \"SCRIPT_NAME\", \"value\": \"build_image.py\"},\n",
    "            {\"name\": \"SUBSCRIPTION_ID\", \"value\": subscription},\n",
    "            {\"name\": \"RESOURCE_GROUP\", \"value\": resource_group},\n",
    "            {\"name\": \"WORKSPACE\", \"value\": workspace},\n",
    "            {\"name\": \"CONTAINER_REGISTRY\", \"value\": acr_name},\n",
    "            {\"name\": \"IMAGE_NAME\", \"value\": \"sample-image\"},\n",
    "            {\"name\": \"ENV_DIR_PATH\", \"value\": \"vnet/sample/environment\"},\n",
    "        ],\n",
    "    },\n",
    ").result()"
   ]
  },
  {
   "cell_type": "code",
   "execution_count": null,
   "metadata": {},
   "outputs": [],
   "source": [
    "workspace"
   ]
  },
  {
   "cell_type": "code",
   "execution_count": null,
   "metadata": {},
   "outputs": [],
   "source": [
    "command.as_dict()"
   ]
  },
  {
   "attachments": {},
   "cell_type": "markdown",
   "metadata": {},
   "source": [
    "## 5. Create a secured Managed Online Endpoint"
   ]
  },
  {
   "attachments": {},
   "cell_type": "markdown",
   "metadata": {},
   "source": [
    "### 5.1 Create the endpoint\n",
    "\n",
    "The following `RunCommand` executes the [build_image.py](vnet/setup_vm/scripts/build_image.py) Python script on the VM Jump Box."
   ]
  },
  {
   "cell_type": "code",
   "execution_count": null,
   "metadata": {},
   "outputs": [],
   "source": [
    "command = compute_client.virtual_machines.begin_run_command(\n",
    "    resource_group_name=resource_group,\n",
    "    vm_name=vm_name,\n",
    "    parameters={\n",
    "        \"source\": {\"script\": Path(\"vnet/setup_vm/scripts/run_py.sh\").read_text()},\n",
    "        \"command_id\": \"RunShellScript\",\n",
    "        \"parameters\": [\n",
    "            {\"name\": \"SCRIPT_NAME\", \"value\": \"create_moe.py\"},\n",
    "            {\"name\": \"SUBSCRIPTION\", \"value\": subscription},\n",
    "            {\"name\": \"RESOURCE_GROUP\", \"value\": resource_group},\n",
    "            {\"name\": \"WORKSPACE\", \"value\": workspace},\n",
    "            {\"name\": \"CONTAINER_REGISTRY\", \"value\": acr_name},\n",
    "        ],\n",
    "    },\n",
    ").result()"
   ]
  },
  {
   "cell_type": "code",
   "execution_count": null,
   "metadata": {},
   "outputs": [],
   "source": [
    "command.as_dict()"
   ]
  },
  {
   "attachments": {},
   "cell_type": "markdown",
   "metadata": {},
   "source": [
    "### 5.2 Make a scoring request\n",
    "\n",
    "The following `RunCommand` executes the [score_moe.py](vnet/setup_vm/scripts/score_moe.py) Python script on the VM Jump Box."
   ]
  },
  {
   "cell_type": "code",
   "execution_count": null,
   "metadata": {},
   "outputs": [],
   "source": [
    "command = compute_client.virtual_machines.begin_run_command(\n",
    "    resource_group_name=resource_group,\n",
    "    vm_name=vm_name,\n",
    "    parameters={\n",
    "        \"source\": {\"script\": Path(\"vnet/setup_vm/scripts/run_py.sh\").read_text()},\n",
    "        \"command_id\": \"RunShellScript\",\n",
    "        \"parameters\": [\n",
    "            {\"name\": \"SCRIPT_NAME\", \"value\": \"create_moe.py\"},\n",
    "            {\"name\": \"SUBSCRIPTION\", \"value\": subscription},\n",
    "            {\"name\": \"RESOURCE_GROUP\", \"value\": resource_group},\n",
    "            {\"name\": \"WORKSPACE\", \"value\": workspace},\n",
    "            {\"name\": \"LOCATION\", \"value\": location},\n",
    "            {\"name\": \"CONTAINER_REGISTRY\", \"value\": acr_name},\n",
    "            {\"name\": \"IDENTITY_NAME\", \"value\": identity_name},\n",
    "        ],\n",
    "    },\n",
    ").result()"
   ]
  },
  {
   "cell_type": "code",
   "execution_count": null,
   "metadata": {},
   "outputs": [],
   "source": [
    "workspace"
   ]
  },
  {
   "attachments": {},
   "cell_type": "markdown",
   "metadata": {},
   "source": [
    "## 6. Cleanup"
   ]
  },
  {
   "attachments": {},
   "cell_type": "markdown",
   "metadata": {},
   "source": [
    "### 6.1 Delete the endpoint\n",
    "\n",
    "The following `RunCommand` executes the [delete_moe.py](vnet/setup_vm/scripts/delete_moe.py) Python script on the VM Jump Box."
   ]
  },
  {
   "cell_type": "code",
   "execution_count": null,
   "metadata": {},
   "outputs": [],
   "source": [
    "command = compute_client.virtual_machines.begin_run_command(\n",
    "    resource_group_name=resource_group,\n",
    "    vm_name=vm_name,\n",
    "    parameters={\n",
    "        \"source\": {\"script\": Path(\"vnet/setup_vm/scripts/run_py.sh\").read_text()},\n",
    "        \"command_type\": \"RunShellScript\",\n",
    "        \"parameters\": [\n",
    "            {\"name\": \"SCRIPT_NAME\", \"value\": \"delete_moe.py\"},\n",
    "            {\"name\": \"SUBSCRIPTION\", \"value\": subscription},\n",
    "            {\"name\": \"RESOURCE_GROUP\", \"value\": resource_group},\n",
    "            {\"name\": \"WORKSPACE\", \"value\": workspace},\n",
    "            {\"name\": \"ENDPOINT_NAME\", \"value\": endpoint_name},\n",
    "        ],\n",
    "    },\n",
    ").result()"
   ]
  },
  {
   "attachments": {},
   "cell_type": "markdown",
   "metadata": {},
   "source": [
    "### 6.2 Delete the VM"
   ]
  },
  {
   "cell_type": "code",
   "execution_count": null,
   "metadata": {},
   "outputs": [],
   "source": [
    "compute_client.virtual_machines.begin_delete(\n",
    "    resource_group_name=resource_group, vm_name=vm_name\n",
    ")"
   ]
  }
 ],
 "metadata": {
  "kernelspec": {
   "display_name": "network",
   "language": "python",
   "name": "python3"
  },
  "language_info": {
   "codemirror_mode": {
    "name": "ipython",
    "version": 3
   },
   "file_extension": ".py",
   "mimetype": "text/x-python",
   "name": "python",
   "nbconvert_exporter": "python",
   "pygments_lexer": "ipython3",
   "version": "3.10.4"
  },
  "vscode": {
   "interpreter": {
    "hash": "ee2b5cd424532374c8e4812d1cf713a3a2e75373848f740b286e76efa2fcd014"
   }
  }
 },
 "nbformat": 4,
 "nbformat_minor": 2
}
