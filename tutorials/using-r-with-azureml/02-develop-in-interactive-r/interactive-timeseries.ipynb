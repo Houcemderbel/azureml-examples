{
  "cells": [
    {
      "cell_type": "code",
      "source": [
        "install.packages(c(\"tsibble\", \"fable\", \"janitor\"))"
      ],
      "outputs": [
        {
          "output_type": "stream",
          "name": "stderr",
          "text": "Installing packages into ‘/usr/local/lib/R/site-library’\n(as ‘lib’ is unspecified)\n\nWarning message in install.packages(c(\"tsibble\", \"fable\", \"janitor\")):\n“'lib = \"/usr/local/lib/R/site-library\"' is not writable”\n"
        },
        {
          "output_type": "error",
          "ename": "ERROR",
          "evalue": "Error in install.packages(c(\"tsibble\", \"fable\", \"janitor\")): unable to install packages\n",
          "traceback": [
            "Error in install.packages(c(\"tsibble\", \"fable\", \"janitor\")): unable to install packages\nTraceback:\n",
            "1. install.packages(c(\"tsibble\", \"fable\", \"janitor\"))",
            "2. stop(\"unable to install packages\")"
          ]
        }
      ],
      "execution_count": 1,
      "metadata": {
        "jupyter": {
          "source_hidden": false,
          "outputs_hidden": false
        },
        "nteract": {
          "transient": {
            "deleting": false
          }
        },
        "gather": {
          "logged": 1669653707851
        }
      }
    },
    {
      "cell_type": "code",
      "source": [
        "# Copyright (c) Microsoft Corporation.\n",
        "# Licensed under the MIT License.\n",
        "\n",
        "## NOTES\n",
        "\n",
        "# Code adapted, modified and optimized from the forecasting example \n",
        "# https://microsoft.github.io/forecasting/examples/grocery_sales/\n",
        "# https://github.com/microsoft/forecasting\n",
        "# accessed 11/14/2022\n",
        "\n",
        "# The source of the dataset is from the `bayesm` package and has been \n",
        "# saved as csv files and provided in the data/ directory.\n",
        "\n",
        "\n",
        "library(tidyverse)\n",
        "library(tsibble)\n",
        "#library(feasts)\n",
        "library(fable) # https://fable.tidyverts.org/index.html\n",
        "library(janitor) # https://github.com/sfirke/janitor\n",
        "\n",
        "## Modify to read the files from Azure storage using reticulate\n",
        "# df <- pd$read_csv(\"azureml://\")\n",
        "\n",
        "oj_sales_read <- readr::read_csv(\"data/yx.csv\") |> \n",
        "  janitor::clean_names()\n",
        "store_demographics_read <- readr::read_csv(\"data/storedemo.csv\") |> \n",
        "  janitor::clean_names()\n",
        "\n",
        "\n",
        "library(reticulate)\n",
        "use_virtualenv(\"interactive-r\")\n",
        "pd <- import(\"pandas\")\n",
        "\n",
        "# get the azureml URI from the Datastore UI (is there a way to get this programatically?\"\n",
        "\n",
        "yx_uri <- \"azureml://subscriptions/2fcb5846-b560-4f38-8b32-ed6dedcc0a38/resourcegroups/aml/workspaces/marckvaisman-mcaps-nonprod/datastores/marckblob/paths/bayesm-orangejuice/yx.csv\"\n",
        "\n",
        "oj_sales_read <- pd$read_csv(yx_uri)\n",
        "\n",
        "\n",
        "# Constants (were previously defined in a YAML file in the \n",
        "# reference example, and ideally can be parametrized\n",
        "\n",
        "START_DATE <- as.Date(\"1989-09-14\")  \n",
        "\n",
        "## Data prep\n",
        "\n",
        "oj_sales <- oj_sales_read |> \n",
        "  # complete the missing combinations\n",
        "  tidyr::complete(store, brand, week) |> \n",
        "  # create the actual week based on start date and # of weeks passed\n",
        "  mutate(yr_wk = tsibble::yearweek(START_DATE + week * 7)) |> \n",
        "  select(-week) |> \n",
        "  # convert to tsibble\n",
        "  as_tsibble(index = yr_wk, key = c(store, brand))\n",
        "\n",
        "# All stores have the same start week (1990 W25) and end week (1992 W41).\n",
        "# For training, use 100 weeks (1992 W18)\n",
        "\n",
        "# The model function in fabletools can fit multiple models \n",
        "# out of the box\n",
        "\n",
        "fit <- oj_sales |> \n",
        "  filter(yr_wk <= yearweek(\"1992 W18\")) |> \n",
        "  model(\n",
        "    mean = MEAN(logmove),\n",
        "    naive = NAIVE(logmove),\n",
        "    drift = RW(logmove ~ drift()),\n",
        "    arima = ARIMA(logmove ~ pdq() + PDQ(0, 0, 0))\n",
        ")\n",
        "\n",
        "# Forecast out 10 weeks\n",
        "fcast <- forecast(fit, h = 10)\n",
        "\n",
        "# Evaluate the metrics for each model (one set of metrics\n",
        "# per modeltype/store/brand)\n",
        "metrics <- accuracy(fcast, oj_sales)\n",
        "\n",
        "\n",
        "sg_data <- oj_sales |> filter(store == 2, brand == 1)\n",
        "sg_model <- fit |> filter(store == 2, brand == 1)\n",
        "sg_fcast <- fcast |> filter(store == 2, brand == 1)\n",
        "sg_metrics <- metrics |> filter(store == 2, brand == 1)\n",
        "\n",
        "sg_fcast |> \n",
        "  autoplot(sg_data, level = NULL)\n",
        "\n",
        "# save a model\n",
        "\n",
        "\n",
        "# https://stackoverflow.com/questions/59721759/extract-model-description-from-a-mable\n",
        "\n",
        "fit %>% head(2) |> \n",
        "  as_tibble() %>%\n",
        "  gather() %>%\n",
        "  mutate(model_desc = print(value)) %>%\n",
        "  select(key, model_desc) %>%\n",
        "  set_names(\"model\", \"model_desc\")\n",
        "\n",
        "\n",
        "\n",
        "\n"
      ],
      "outputs": [],
      "execution_count": null,
      "metadata": {}
    }
  ],
  "metadata": {
    "kernelspec": {
      "name": "ir",
      "language": "R",
      "display_name": "R"
    },
    "language_info": {
      "name": "R",
      "codemirror_mode": "r",
      "pygments_lexer": "r",
      "mimetype": "text/x-r-source",
      "file_extension": ".r",
      "version": "4.2.2"
    },
    "kernel_info": {
      "name": "ir"
    },
    "nteract": {
      "version": "nteract-front-end@1.0.0"
    }
  },
  "nbformat": 4,
  "nbformat_minor": 2
}