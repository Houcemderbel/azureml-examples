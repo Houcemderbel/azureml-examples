{
 "cells": [
  {
   "attachments": {},
   "cell_type": "markdown",
   "metadata": {},
   "source": [
    "# Use network isolation with managed online endpoints\n",
    "\n",
    "Learn how to secure communication with online endpoints by using private endpoints. This script follows the [Use network isolation with managed online endpoints](https://learn.microsoft.com/en-us/azure/machine-learning/how-to-secure-online-endpoint) document. "
   ]
  },
  {
   "cell_type": "markdown",
   "metadata": {},
   "source": [
    "The following prerequisites are needed for this example: \n",
    "\n",
    "Install them using the following code:"
   ]
  },
  {
   "cell_type": "code",
   "execution_count": null,
   "metadata": {},
   "outputs": [],
   "source": [
    "%pip install azure-mgmt-resource\n",
    "%pip install azure-mgmt-compute\n",
    "%pip install azure-mgmt-containerregistry\n",
    "%pip install azure-mgmt-network"
   ]
  },
  {
   "attachments": {},
   "cell_type": "markdown",
   "metadata": {},
   "source": [
    "## 1. Connect to Azure Machine Learning"
   ]
  },
  {
   "attachments": {},
   "cell_type": "markdown",
   "metadata": {},
   "source": [
    "### 1.1 Import Required Libraries"
   ]
  },
  {
   "cell_type": "code",
   "execution_count": null,
   "metadata": {},
   "outputs": [],
   "source": [
    "from azure.ai.ml import MLClient\n",
    "from azure.ai.ml.entities import (\n",
    "    ManagedOnlineEndpoint,\n",
    "    ManagedOnlineDeployment,\n",
    "    Model,\n",
    "    Environment,\n",
    "    CodeConfiguration,\n",
    ")\n",
    "from azure.mgmt.resource import ResourceManagementClient, DeploymentScriptsClient\n",
    "from azure.mgmt.resource.templatespecs import TemplateSpecsClient\n",
    "from azure.mgmt.resource.templatespecs.models import TemplateSpec\n",
    "from azure.mgmt.resource.resources.v2021_04_01 import models as resource_models\n",
    "from azure.mgmt.resource.templatespecs.v2022_02_01.models import TemplateSpec\n",
    "from azure.mgmt.network import NetworkManagementClient\n",
    "from azure.mgmt.compute import ComputeManagementClient\n",
    "from azure.mgmt.compute.v2022_08_01.models import (\n",
    "    VirtualMachineRunCommand,\n",
    "    VirtualMachine,\n",
    "    VirtualMachineRunCommandScriptSource,\n",
    "    RunCommandInputParameter,\n",
    ")\n",
    "from azure.identity import DefaultAzureCredential, ManagedIdentityCredential\n",
    "import os, json, random\n",
    "from pathlib import Path"
   ]
  },
  {
   "attachments": {},
   "cell_type": "markdown",
   "metadata": {},
   "source": [
    "### 1.2 Set variables"
   ]
  },
  {
   "cell_type": "code",
   "execution_count": null,
   "metadata": {},
   "outputs": [],
   "source": [
    "# subscription = \"<SUBSCRIPTION_ID>\"\n",
    "# resource_group = \"<RESOURCE_GROUP>\"\n",
    "# location = \"<LOCATION>\"\n",
    "\n",
    "subscription = \"6fe1c377-b645-4e8e-b588-52e57cc856b2\"\n",
    "resource_group = \"role-creation-sample\"\n",
    "location = \"eastus\"\n",
    "\n",
    "\n",
    "_rand = random.randint(0, 10000)\n",
    "_rand = 3886\n",
    "\n",
    "suffix = f\"vnet{_rand}\"\n",
    "acr_name = f\"cr{suffix}\"\n",
    "workspace = f\"mlw-{suffix}\"\n",
    "identity_name = f\"uai{suffix}\"\n",
    "\n",
    "vm_name = f\"moevnet-vm{suffix}\"\n",
    "vnet_name = f\"vnet-{suffix}\"\n",
    "subnet_name = \"snet-scoring\"\n",
    "\n",
    "endpoint_name = f\"endpt-vnet-{_rand}\"\n",
    "##TODO: Edit\n",
    "git_branch = os.getenv(\"GITHUB_HEAD_REF\", \"alwallace/networkisolation3\")"
   ]
  },
  {
   "attachments": {},
   "cell_type": "markdown",
   "metadata": {},
   "source": [
    "### 1.3 Get clients\n",
    "\n",
    "To create the secured resources needed for a network-isolated Managed Online Endpoint including the VM Jump Box, we will need a Resource Management Client and a Template Specs client. Once the resources are created, we will use a ComputeManagementClient to connect to the VM Jump Box and issue commands to the workspace."
   ]
  },
  {
   "cell_type": "code",
   "execution_count": null,
   "metadata": {},
   "outputs": [],
   "source": [
    "credential = DefaultAzureCredential()\n",
    "\n",
    "resource_client = ResourceManagementClient(credential, subscription)\n",
    "\n",
    "compute_client = ComputeManagementClient(credential, subscription)\n",
    "\n",
    "ts_client = TemplateSpecsClient(credential, subscription)"
   ]
  },
  {
   "cell_type": "code",
   "execution_count": null,
   "metadata": {},
   "outputs": [],
   "source": [
    "resource_client.resource_groups.get(resource_group_name=resource_group)"
   ]
  },
  {
   "attachments": {},
   "cell_type": "markdown",
   "metadata": {},
   "source": [
    "## 2. Create the workspace and secured resources"
   ]
  },
  {
   "attachments": {},
   "cell_type": "markdown",
   "metadata": {},
   "source": [
    "To create the workspace and associated resources, we will use the ARM templates located in [vnet/setup_vm](vnet/setup_vm) and [vnet/setup_ws](vnet/setup_ws). These ARM templates were created by decompiling the Bicep files used in the Network Isolation CLI example directory [cli/endpoints/online/managed/vnet](../../../../../cli/endpoints/online/managed/vnet/setup_ws).\n",
    "\n",
    "The Bicep decompilation tool is distributed as binary executable and can be installed as an Azure CLI extension or a standalone tool. For more information, see the document [Install Bicep Tools](https://learn.microsoft.com/en-us/azure/azure-resource-manager/bicep/install)."
   ]
  },
  {
   "attachments": {},
   "cell_type": "markdown",
   "metadata": {},
   "source": [
    "### 2.1 Create identity\n",
    "\n",
    "To create the UAI identity we use the Resource Client to deploy the [uai.json](vnet/setup_ws/uai.json) ARM template by passing it as the `template` property with parameters passed in under the `parameters` property."
   ]
  },
  {
   "cell_type": "code",
   "execution_count": null,
   "metadata": {},
   "outputs": [],
   "source": [
    "deployment = resource_client.deployments.begin_create_or_update(\n",
    "    resource_group_name=resource_group,\n",
    "    deployment_name=f\"{suffix}-uai\",\n",
    "    parameters={\n",
    "        \"properties\": {\n",
    "            \"mode\": \"Incremental\",\n",
    "            \"template\": json.loads(Path(\"vnet/setup_ws/uai.json\").read_text()),\n",
    "            \"parameters\": {\n",
    "                \"suffix\": {\"value\": f\"{suffix}\"},\n",
    "            },\n",
    "            \"location\": {\"value\": f\"{location}\"},\n",
    "        }\n",
    "    },\n",
    ").result()"
   ]
  },
  {
   "attachments": {},
   "cell_type": "markdown",
   "metadata": {},
   "source": [
    "### 2.2 Create workspace\n",
    "\n",
    "The ARM template to create the workspace consists of a main tmplate in [vnet/setup_ws/main.json](vnet/setup_ws/main-linked.json) which refers to other templates in the [modules](vnet/setup_ws/modules) directory. To deploy these linked templates, a Template Spec is first created which contains each of the linked modules"
   ]
  },
  {
   "attachments": {},
   "cell_type": "markdown",
   "metadata": {},
   "source": [
    "### 2.2.1 Create a Template Spec\n",
    "A Template Spec with the name \"networkiso\" is created."
   ]
  },
  {
   "cell_type": "code",
   "execution_count": null,
   "metadata": {},
   "outputs": [],
   "source": [
    "tempspec_root = Path(\"vnet/setup_ws\")\n",
    "\n",
    "tempspec = ts_client.template_specs.create_or_update(\n",
    "    template_spec_name=\"networkiso\",\n",
    "    resource_group_name=resource_group,\n",
    "    template_spec={\"location\": location},\n",
    ")"
   ]
  },
  {
   "attachments": {},
   "cell_type": "markdown",
   "metadata": {},
   "source": [
    "### 2.2.2 Create a Template Spec Version\n",
    "A Template Spec Version is created which contains the main and linked templates. Each linked template contains an arbitrary `path` value which is independent of its actual location on disk, and should correspond to the `relativePath` values specified in the main template. The `main-linked.json` file expects relative paths of the form `modules/*.json`, so this path is provided for each linked template. \n",
    "\n",
    "Once the Template Spec Version is created, you can view it in the Portal."
   ]
  },
  {
   "cell_type": "code",
   "execution_count": null,
   "metadata": {},
   "outputs": [],
   "source": [
    "tempspec = ts_client.template_spec_versions.create_or_update(\n",
    "    template_spec_name=\"networkiso\",\n",
    "    template_spec_version=str(_rand),\n",
    "    resource_group_name=resource_group,\n",
    "    template_spec_version_model={\n",
    "        \"location\": location,\n",
    "        \"linked_templates\": [\n",
    "            {\n",
    "                \"template\": json.loads(f.read_text()),\n",
    "                \"path\": str(f.relative_to(tempspec_root)),\n",
    "            }\n",
    "            for f in (tempspec_root / \"modules\").iterdir()\n",
    "        ],\n",
    "        \"main_template\": json.loads((tempspec_root / \"main-linked.json\").read_text()),\n",
    "    },\n",
    ")"
   ]
  },
  {
   "attachments": {},
   "cell_type": "markdown",
   "metadata": {},
   "source": [
    "### 2.2.3 Deploy the Template Spec Version\n",
    "\n",
    "Deploying the Template Spec Version creates the resources specified in the template."
   ]
  },
  {
   "cell_type": "code",
   "execution_count": null,
   "metadata": {},
   "outputs": [],
   "source": [
    "deployment = resource_client.deployments.begin_create_or_update(\n",
    "    resource_group_name=resource_group,\n",
    "    deployment_name=suffix,\n",
    "    parameters={\n",
    "        \"properties\": {\n",
    "            \"mode\": \"Incremental\",\n",
    "            \"template_link\": {\"id\": tempspec.id},\n",
    "            \"parameters\": {\"suffix\": {\"value\": suffix}},\n",
    "        }\n",
    "    },\n",
    ").result()"
   ]
  },
  {
   "attachments": {},
   "cell_type": "markdown",
   "metadata": {},
   "source": [
    "## 3. Create the Virtual Machine Jump Box\n",
    "\n",
    "A Virtual Machine Jump Box is to interact with the Network Isolated Machine Learning Workspace. \n",
    "\n",
    "To deploy the Virtual Machine Jump box, we will use a non-linked ARM template which can be passed directly to the Resource Client without first creating a Template Spec."
   ]
  },
  {
   "cell_type": "code",
   "execution_count": null,
   "metadata": {},
   "outputs": [],
   "source": [
    "deployment = resource_client.deployments.begin_create_or_update(\n",
    "    resource_group_name=resource_group,\n",
    "    deployment_name=f\"{vm_name}-{endpoint_name}\",\n",
    "    parameters={\n",
    "        \"properties\": {\n",
    "            \"mode\": \"Incremental\",\n",
    "            \"template\": json.loads(Path(\"vnet/setup_vm/vm-main.json\").read_text()),\n",
    "            \"parameters\": {\n",
    "                \"vmName\": {\"value\": vm_name},\n",
    "                \"vnetName\": {\"value\": vnet_name},\n",
    "                \"identityName\": {\"value\": identity_name},\n",
    "                \"subnetName\": {\"value\": subnet_name},\n",
    "            },\n",
    "        }\n",
    "    },\n",
    ").result()"
   ]
  },
  {
   "attachments": {},
   "cell_type": "markdown",
   "metadata": {},
   "source": [
    "## 4. Configure the VM\n",
    "The following scripts use the `RunShellScript` VM command to run shell and Python scripts that setup the VM, create a Managed Online Endpoint, and score it. \n",
    "\n",
    "Alternatively, these scripts can also be run over SSH."
   ]
  },
  {
   "attachments": {},
   "cell_type": "markdown",
   "metadata": {},
   "source": [
    "### 4.1 Execute the setup script\n",
    "\n",
    "The following `RunCommand` executes the setup script [vmsetup.sh](vnet/setup_vm/modules/scripts/vmsetup.sh) on the VM Jump Box. This script bootstraps the environment on the VM by setting up Python and required packages and cloning the environemnt."
   ]
  },
  {
   "cell_type": "code",
   "execution_count": null,
   "metadata": {},
   "outputs": [],
   "source": [
    "command = compute_client.virtual_machines.begin_run_command(\n",
    "    resource_group_name=resource_group,\n",
    "    vm_name=vm_name,\n",
    "    parameters={\n",
    "        \"script\": [Path(\"vnet/setup_vm/scripts/vmsetup.sh\").read_text()],\n",
    "        \"command_id\": \"RunShellScript\",\n",
    "        \"parameters\": [\n",
    "            {\"name\": \"GIT_BRANCH\", \"value\": git_branch},\n",
    "        ],\n",
    "    },\n",
    ").result()"
   ]
  },
  {
   "cell_type": "code",
   "execution_count": null,
   "metadata": {},
   "outputs": [],
   "source": [
    "command.as_dict()"
   ]
  },
  {
   "attachments": {},
   "cell_type": "markdown",
   "metadata": {},
   "source": [
    "### 4.2 Build Image\n",
    "\n",
    "After the initial VM setup, each Python script is executed using the [run_py.sh](vnet/setup_vm/run_py.sh) shell script.\n",
    "\n",
    "The following `RunCommand` executes the [build_image.py](vnet/setup_vm/scripts/build_image.py) Python script on the VM Jump Box."
   ]
  },
  {
   "cell_type": "code",
   "execution_count": null,
   "metadata": {},
   "outputs": [],
   "source": [
    "command = compute_client.virtual_machines.begin_run_command(\n",
    "    resource_group_name=resource_group,\n",
    "    vm_name=vm_name,\n",
    "    parameters={\n",
    "       \"script\": [Path(\"vnet/setup_vm/scripts/run_py.sh\").read_text()],\n",
    "        \"command_id\": \"RunShellScript\",\n",
    "        \"parameters\": [\n",
    "            {\"name\": \"SCRIPT_NAME\", \"value\": \"build_image.py\"},\n",
    "            {\"name\": \"SUBSCRIPTION_ID\", \"value\": subscription},\n",
    "            {\"name\": \"RESOURCE_GROUP\", \"value\": resource_group},\n",
    "            {\"name\": \"WORKSPACE\", \"value\": workspace},\n",
    "            {\"name\": \"CONTAINER_REGISTRY\", \"value\": acr_name},\n",
    "            {\"name\": \"ENV_DIR_PATH\", \"value\": \"vnet/sample/environment/Dockerfile\"},\n",
    "        ],\n",
    "    },\n",
    ").result()"
   ]
  },
  {
   "cell_type": "code",
   "execution_count": null,
   "metadata": {},
   "outputs": [],
   "source": [
    "workspace"
   ]
  },
  {
   "cell_type": "code",
   "execution_count": null,
   "metadata": {},
   "outputs": [],
   "source": [
    "command.as_dict()"
   ]
  },
  {
   "attachments": {},
   "cell_type": "markdown",
   "metadata": {},
   "source": [
    "## 5. Create a secured Managed Online Endpoint"
   ]
  },
  {
   "attachments": {},
   "cell_type": "markdown",
   "metadata": {},
   "source": [
    "### 5.1 Create the endpoint\n",
    "\n",
    "The following `RunCommand` executes the [build_image.py](vnet/setup_vm/scripts/build_image.py) Python script on the VM Jump Box."
   ]
  },
  {
   "cell_type": "code",
   "execution_count": null,
   "metadata": {},
   "outputs": [],
   "source": [
    "command = compute_client.virtual_machines.begin_run_command(\n",
    "    resource_group_name=resource_group,\n",
    "    vm_name=vm_name,\n",
    "    parameters={\n",
    "        \"source\": {\"script\": Path(\"vnet/setup_vm/scripts/run_py.sh\").read_text()},\n",
    "        \"command_id\": \"RunShellScript\",\n",
    "        \"parameters\": [\n",
    "            {\"name\": \"SCRIPT_NAME\", \"value\": \"create_moe.py\"},\n",
    "            {\"name\": \"SUBSCRIPTION\", \"value\": subscription},\n",
    "            {\"name\": \"RESOURCE_GROUP\", \"value\": resource_group},\n",
    "            {\"name\": \"WORKSPACE\", \"value\": workspace},\n",
    "            {\"name\": \"CONTAINER_REGISTRY\", \"value\": acr_name},\n",
    "        ],\n",
    "    },\n",
    ").result()"
   ]
  },
  {
   "cell_type": "code",
   "execution_count": null,
   "metadata": {},
   "outputs": [],
   "source": [
    "command.as_dict()"
   ]
  },
  {
   "attachments": {},
   "cell_type": "markdown",
   "metadata": {},
   "source": [
    "### 5.2 Make a scoring request\n",
    "\n",
    "The following `RunCommand` executes the [score_moe.py](vnet/setup_vm/scripts/score_moe.py) Python script on the VM Jump Box."
   ]
  },
  {
   "cell_type": "code",
   "execution_count": null,
   "metadata": {},
   "outputs": [],
   "source": [
    "command = compute_client.virtual_machines.begin_run_command(\n",
    "    resource_group_name=resource_group,\n",
    "    vm_name=vm_name,\n",
    "    parameters={\n",
    "        \"source\": {\"script\": Path(\"vnet/setup_vm/scripts/run_py.sh\").read_text()},\n",
    "        \"command_id\": \"RunShellScript\",\n",
    "        \"parameters\": [\n",
    "            {\"name\": \"SCRIPT_NAME\", \"value\": \"create_moe.py\"},\n",
    "            {\"name\": \"SUBSCRIPTION\", \"value\": subscription},\n",
    "            {\"name\": \"RESOURCE_GROUP\", \"value\": resource_group},\n",
    "            {\"name\": \"WORKSPACE\", \"value\": workspace},\n",
    "            {\"name\": \"LOCATION\", \"value\": location},\n",
    "            {\"name\": \"CONTAINER_REGISTRY\", \"value\": acr_name},\n",
    "            {\"name\": \"IDENTITY_NAME\", \"value\": identity_name},\n",
    "        ],\n",
    "    },\n",
    ").result()"
   ]
  },
  {
   "cell_type": "code",
   "execution_count": null,
   "metadata": {},
   "outputs": [],
   "source": [
    "workspace"
   ]
  },
  {
   "attachments": {},
   "cell_type": "markdown",
   "metadata": {},
   "source": [
    "## 6. Cleanup"
   ]
  },
  {
   "attachments": {},
   "cell_type": "markdown",
   "metadata": {},
   "source": [
    "### 6.1 Delete the endpoint\n",
    "\n",
    "The following `RunCommand` executes the [delete_moe.py](vnet/setup_vm/scripts/delete_moe.py) Python script on the VM Jump Box."
   ]
  },
  {
   "cell_type": "code",
   "execution_count": null,
   "metadata": {},
   "outputs": [],
   "source": [
    "command = compute_client.virtual_machines.begin_run_command(\n",
    "    resource_group_name=resource_group,\n",
    "    vm_name=vm_name,\n",
    "    parameters={\n",
    "        \"source\": {\"script\": Path(\"vnet/setup_vm/scripts/run_py.sh\").read_text()},\n",
    "        \"command_type\": \"RunShellScript\",\n",
    "        \"parameters\": [\n",
    "            {\"name\": \"SCRIPT_NAME\", \"value\": \"delete_moe.py\"},\n",
    "            {\"name\": \"SUBSCRIPTION\", \"value\": subscription},\n",
    "            {\"name\": \"RESOURCE_GROUP\", \"value\": resource_group},\n",
    "            {\"name\": \"WORKSPACE\", \"value\": workspace},\n",
    "            {\"name\": \"ENDPOINT_NAME\", \"value\": endpoint_name},\n",
    "        ],\n",
    "    },\n",
    ").result()"
   ]
  },
  {
   "attachments": {},
   "cell_type": "markdown",
   "metadata": {},
   "source": [
    "### 6.2 Delete the VM"
   ]
  },
  {
   "cell_type": "code",
   "execution_count": null,
   "metadata": {},
   "outputs": [],
   "source": [
    "compute_client.virtual_machines.begin_delete(\n",
    "    resource_group_name=resource_group, vm_name=vm_name\n",
    ")"
   ]
  }
 ],
 "metadata": {
  "kernelspec": {
   "display_name": "network",
   "language": "python",
   "name": "python3"
  },
  "language_info": {
   "codemirror_mode": {
    "name": "ipython",
    "version": 3
   },
   "file_extension": ".py",
   "mimetype": "text/x-python",
   "name": "python",
   "nbconvert_exporter": "python",
   "pygments_lexer": "ipython3",
   "version": "3.10.4"
  },
  "vscode": {
   "interpreter": {
    "hash": "ee2b5cd424532374c8e4812d1cf713a3a2e75373848f740b286e76efa2fcd014"
   }
  }
 },
 "nbformat": 4,
 "nbformat_minor": 2
}
