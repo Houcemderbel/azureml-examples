{
  "cells": [
    {
      "cell_type": "markdown",
      "source": [
        "# Work with data assets in R\r\n",
        "\r\n",
        "This notebook shows how to read and write data assets into your Machine Learning workspace from R.  \r\n",
        "\r\n",
        "## Prerequisites\r\n",
        "\r\n",
        "To use this notebook, you'll need to set up a few things.\r\n",
        "\r\n",
        "1.  Make sure the **R** kernel is selected in the top right of the notebook toolbar.\r\n",
        "2.  In your compute instance toolbar, install `azureml-fsspec` into the `azureml_py310_sdkv2` kernel:\r\n",
        "\r\n",
        "    ```\r\n",
        "    conda activate azureml_py310_sdkv2\r\n",
        "    pip install azureml-fsspec\r\n",
        "    conda deactivate\r\n",
        "    ```"
      ],
      "metadata": {
        "nteract": {
          "transient": {
            "deleting": false
          }
        }
      }
    },
    {
      "cell_type": "code",
      "source": [
        "# Check version of reticulate.  If not at least 1.26, use a newer compute instance.\r\n",
        "packageVersion('reticulate')"
      ],
      "outputs": [],
      "execution_count": null,
      "metadata": {
        "jupyter": {
          "source_hidden": false,
          "outputs_hidden": false
        },
        "nteract": {
          "transient": {
            "deleting": false
          }
        },
        "gather": {
          "logged": 1672163549650
        }
      }
    },
    {
      "cell_type": "markdown",
      "source": [
        "## Load reticulate and set condaenv\r\n",
        "\r\n",
        "This R script will use the `reticulate` package, which runs Python code from within R.  \r\n",
        "\r\n",
        "First, load the package and set the conda environment to be used for the Python code:"
      ],
      "metadata": {
        "nteract": {
          "transient": {
            "deleting": false
          }
        }
      }
    },
    {
      "cell_type": "code",
      "source": [
        "library(reticulate)\r\n",
        "use_condaenv(\"azureml_py310_sdkv2\")\r\n",
        "print(\"Environment is set\")"
      ],
      "outputs": [],
      "execution_count": null,
      "metadata": {
        "name": "reticulate",
        "jupyter": {
          "source_hidden": false,
          "outputs_hidden": false
        },
        "nteract": {
          "transient": {
            "deleting": false
          }
        },
        "gather": {
          "logged": 1672163552791
        }
      }
    },
    {
      "cell_type": "markdown",
      "source": [
        "## Establish connection with workspace\r\n",
        "This next bit of code in Python will configure the connection to your workspace.  "
      ],
      "metadata": {
        "nteract": {
          "transient": {
            "deleting": false
          }
        }
      }
    },
    {
      "cell_type": "code",
      "source": [
        "py_code <- \"from azure.identity import DefaultAzureCredential\r\n",
        "from azure.ai.ml import MLClient\r\n",
        "credential = DefaultAzureCredential()\r\n",
        "ml_client = MLClient.from_config(credential=credential)\"\r\n",
        "\r\n",
        "py_run_string(py_code)\r\n",
        "print(\"ml_client is configured\")"
      ],
      "outputs": [],
      "execution_count": null,
      "metadata": {
        "name": "configure-ml_client",
        "jupyter": {
          "source_hidden": false,
          "outputs_hidden": false
        },
        "nteract": {
          "transient": {
            "deleting": false
          }
        },
        "gather": {
          "logged": 1672163557940
        }
      }
    },
    {
      "cell_type": "markdown",
      "source": [
        "## Create a data asset\r\n",
        "\r\n",
        "This code shows creating a data asset from an online blob storage.  You can als use local baths, ADLS gen2, or datastore paths.  For more details, see [Create data assets](https://learn.microsoft.com/azure/machine-learning/how-to-create-data-assets?tabs=cli#create-a-uri_file-data-asset)."
      ],
      "metadata": {
        "nteract": {
          "transient": {
            "deleting": false
          }
        }
      }
    },
    {
      "cell_type": "code",
      "source": [
        "# Creata a data asset from online path\r\n",
        "py_code <- \"from azure.ai.ml.entities import Data\r\n",
        "from azure.ai.ml.constants import AssetTypes\r\n",
        "\r\n",
        "my_path = 'https://azuremlexamples.blob.core.windows.net/datasets/credit_card/default_of_credit_card_clients.csv'\r\n",
        "my_name = 'credit-card'\r\n",
        "my_description = 'credit card data'\r\n",
        "\r\n",
        "my_data = Data(\r\n",
        "    path=my_path,\r\n",
        "    type=AssetTypes.URI_FILE,\r\n",
        "    description=my_description,\r\n",
        "    name=my_name\r\n",
        ")\r\n",
        "\r\n",
        "ml_client.data.create_or_update(my_data)\"\r\n",
        "\r\n",
        "py_run_string(py_code)\r\n",
        "print(paste(\"Created data asset:\", py$my_name ))"
      ],
      "outputs": [],
      "execution_count": null,
      "metadata": {
        "gather": {
          "logged": 1672163594306
        }
      }
    },
    {
      "cell_type": "markdown",
      "source": [
        "# Retrieve a data asset\r\n",
        "\r\n",
        "You can retrieve any data asset in your workspace.  All you need is the name and version number of the asset.  In this example, you'll retrieve the asset you just created. But you can also specify the name and version of any other data asset in your workspace, whether it was created in with Azure CLI, Python code or in the studio UI.  "
      ],
      "metadata": {
        "nteract": {
          "transient": {
            "deleting": false
          }
        }
      }
    },
    {
      "cell_type": "code",
      "source": [
        "py_code <- \"# get a handle to the data asset and print the URI\r\n",
        "my_name = 'credit-card'\r\n",
        "my_version = '1'\r\n",
        "data_asset = ml_client.data.get(name=my_name, version=my_version)\r\n",
        "data_uri = data_asset.path\"\r\n",
        "\r\n",
        "py_run_string(py_code)\r\n",
        "print(paste(\"URI path is\", py$data_uri))"
      ],
      "outputs": [],
      "execution_count": null,
      "metadata": {
        "name": "get-uri",
        "jupyter": {
          "source_hidden": false,
          "outputs_hidden": false
        },
        "nteract": {
          "transient": {
            "deleting": false
          }
        },
        "gather": {
          "logged": 1672163604473
        }
      }
    },
    {
      "cell_type": "markdown",
      "source": [
        "Use the URI path to read your data asset into R:"
      ],
      "metadata": {
        "nteract": {
          "transient": {
            "deleting": false
          }
        }
      }
    },
    {
      "cell_type": "code",
      "source": [
        "pd <- import(\"pandas\")\r\n",
        "cc <- pd$read_csv(py$data_uri)\r\n",
        "head(cc)"
      ],
      "outputs": [],
      "execution_count": null,
      "metadata": {
        "name": "read-uri",
        "jupyter": {
          "source_hidden": false,
          "outputs_hidden": false
        },
        "nteract": {
          "transient": {
            "deleting": false
          }
        },
        "gather": {
          "logged": 1672163609440
        }
      }
    }
  ],
  "metadata": {
    "kernelspec": {
      "name": "ir",
      "language": "R",
      "display_name": "R"
    },
    "language_info": {
      "name": "R",
      "codemirror_mode": "r",
      "pygments_lexer": "r",
      "mimetype": "text/x-r-source",
      "file_extension": ".r",
      "version": "4.2.2"
    },
    "kernel_info": {
      "name": "ir"
    },
    "nteract": {
      "version": "nteract-front-end@1.0.0"
    },
    "microsoft": {
      "host": {
        "AzureML": {
          "notebookHasBeenCompleted": true
        }
      }
    }
  },
  "nbformat": 4,
  "nbformat_minor": 2
}