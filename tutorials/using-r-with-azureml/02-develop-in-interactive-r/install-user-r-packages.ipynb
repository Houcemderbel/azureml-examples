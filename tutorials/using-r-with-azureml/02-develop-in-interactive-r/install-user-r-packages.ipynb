{
  "cells": [
    {
      "cell_type": "markdown",
      "source": [
        "This is an example of an interactive R session running on the Compute Istance.\n",
        "\n",
        "You can install any additional R packages you may need, and these need to be installed in a user library. You only need to install R packages once.\n",
        "\n",
        "Note: since you are installing packages within an R session running in a Jupyter notebook, you have to explicitly specify dependencies = TRUE, otherwiser any dependency will not be automatically installed."
      ],
      "metadata": {
        "nteract": {
          "transient": {
            "deleting": false
          }
        }
      }
    },
    {
      "cell_type": "code",
      "source": [
        "install.packages(c(\"tsibble\", \"fable\", \"janitor\", \"feasts\"), \n",
        "                 dependencies = TRUE,\n",
        "                 lib = \"/home/azureuser\")"
      ],
      "outputs": [],
      "execution_count": null,
      "metadata": {}
    }
  ],
  "metadata": {
    "kernelspec": {
      "name": "python310-sdkv2",
      "language": "python",
      "display_name": "Python 3.10 - SDK V2"
    },
    "language_info": {
      "name": "python",
      "version": "3.10.6",
      "mimetype": "text/x-python",
      "codemirror_mode": {
        "name": "ipython",
        "version": 3
      },
      "pygments_lexer": "ipython3",
      "nbconvert_exporter": "python",
      "file_extension": ".py"
    },
    "kernel_info": {
      "name": "python310-sdkv2"
    },
    "nteract": {
      "version": "nteract-front-end@1.0.0"
    }
  },
  "nbformat": 4,
  "nbformat_minor": 2
}